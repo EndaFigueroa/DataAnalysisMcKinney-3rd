{
 "cells": [
  {
   "cell_type": "code",
   "execution_count": 1,
   "id": "0243eddd-2a6c-4c64-a84e-0c0a65d5350e",
   "metadata": {},
   "outputs": [],
   "source": [
    "import numpy as np\n",
    "import pandas as pd\n",
    "from pandas import Series, DataFrame"
   ]
  },
  {
   "cell_type": "markdown",
   "id": "5c116ee0-37b2-4f07-9e4f-29cb3c1f3fc1",
   "metadata": {},
   "source": [
    "# 4.1 The NumPy ndarray"
   ]
  },
  {
   "cell_type": "code",
   "execution_count": null,
   "id": "bf6d643c-497c-47a1-b484-87d036bad6be",
   "metadata": {},
   "outputs": [],
   "source": []
  }
 ],
 "metadata": {
  "kernelspec": {
   "display_name": "Python 3 (ipykernel)",
   "language": "python",
   "name": "python3"
  },
  "language_info": {
   "codemirror_mode": {
    "name": "ipython",
    "version": 3
   },
   "file_extension": ".py",
   "mimetype": "text/x-python",
   "name": "python",
   "nbconvert_exporter": "python",
   "pygments_lexer": "ipython3",
   "version": "3.12.5"
  }
 },
 "nbformat": 4,
 "nbformat_minor": 5
}
