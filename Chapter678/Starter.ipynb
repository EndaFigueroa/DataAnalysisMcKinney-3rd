{
 "cells": [
  {
   "cell_type": "code",
   "execution_count": null,
   "id": "220890b3-5a99-4892-a955-4eb2f339ae34",
   "metadata": {},
   "outputs": [],
   "source": [
    "import pandas as pd\n",
    "import numpy as np"
   ]
  },
  {
   "cell_type": "markdown",
   "id": "3d403243-61db-48bc-bed6-3a9959aece22",
   "metadata": {},
   "source": [
    "# 6.1 Reading and Writing Data in Text Format"
   ]
  },
  {
   "cell_type": "markdown",
   "id": "c49a66b2-4c8e-41b7-ae7c-4fc0edbea1b5",
   "metadata": {},
   "source": [
    "## read_\n",
    "\n",
    "read_csv: load delimited data from a file, URL, or file-like object; use a comma as deault delimiter.\n",
    "\n",
    "read_fwf: Read data in fixed-width col\n",
    "\n",
    "read_clipboard , read_excel, read_hdf (panda), read_html, read_json, read_feather, read_orc(Apache ORC), read_parquet(Apache Parquet), read_pickle(Python), read_sas, read_spss, read_sql, read_sql_table(SQLAlchemy), read_stata, read_xml"
   ]
  },
  {
   "cell_type": "markdown",
   "id": "c50a0bed-5930-43f1-b1b9-9a574a23d0f0",
   "metadata": {},
   "source": [
    "## Read in and name cols\n",
    "pd.read_csv(\"examples/ex1.csv\")\n",
    "\n",
    "pd.read_csv(\"examples/ex2.csv\", header=None)\n",
    "This one allows Panda to name the header\n",
    "\n",
    "pd.read_csv(\"examples/ex2.csv\", names=[\"a\", \"b\", \"c\", \"d\", \"message\"])\n",
    "This names the cols as it's read in"
   ]
  },
  {
   "cell_type": "markdown",
   "id": "ce04dca0-49cc-4fa2-9636-217a2e03db2e",
   "metadata": {},
   "source": [
    "## Rearrange the cols\n",
    "names = [\"a\", \"b\", \"c\", \"d\", \"message\"]\n",
    "\n",
    "pd.read_csv(\"examples/ex2.csv\", names=names, index_col=\"message\")\n",
    "message will now be first col."
   ]
  },
  {
   "cell_type": "markdown",
   "id": "ba094205-72dd-496c-b2a7-6dfd02129253",
   "metadata": {},
   "source": [
    "## Hierarchical Indexing\n",
    "(Original form)\n",
    "key1,key2,value1,value2\n",
    "one,a,1,2\n",
    "one,b,3,4\n",
    "one,c,5,6\n",
    "one,d,7,8\n",
    "two,a,9,10\n",
    "two,b,11,12\n",
    "two,c,13,14\n",
    "two,d,15,16\n",
    "\n",
    "(New form)\n",
    "parsed = pd.read_csv(\"examples/csv_mindex.csv\", index_col=[\"key1\", \"key2\"])\n",
    "\n",
    "parsed\n",
    "           value1  value2\n",
    "key1 key2                \n",
    "one  a          1       2\n",
    "     b          3       4\n",
    "     c          5       6\n",
    "     d          7       8\n",
    "two  a          9      10\n",
    "     b         11      12\n",
    "     c         13      14\n",
    "     d         15      16"
   ]
  },
  {
   "cell_type": "markdown",
   "id": "272969c8-4e20-4463-942e-4b37c79a6778",
   "metadata": {},
   "source": [
    "## Tables with whitespace delimiters\n",
    "(Original form)\n",
    "A         B         C\n",
    "aaa -0.264438 -1.026059 -0.619500\n",
    "bbb  0.927272  0.302904 -0.032399\n",
    "ccc -0.264273 -0.386314 -0.217601\n",
    "ddd -0.871858 -0.348382  1.100491\n",
    "\n",
    "No commas seperating the data, so reading it in takes a bit more.\n",
    "\n",
    "result = pd.read_csv(\"examples/ex3.txt\", sep=\"\\s+\")\n",
    "The sep=\"\\s+\" deliminates along the whitespace.\n",
    "\n",
    "result \n",
    "            A         B         C\n",
    "aaa -0.264438 -1.026059 -0.619500\n",
    "bbb  0.927272  0.302904 -0.032399\n",
    "ccc -0.264273 -0.386314 -0.217601\n",
    "ddd -0.871858 -0.348382  1.100491"
   ]
  },
  {
   "cell_type": "markdown",
   "id": "5118f941-0628-4029-86c2-3c36a68ed4e9",
   "metadata": {},
   "source": [
    "## Exclude rows when reading\n",
    "(Original)\n",
    "~hey!\n",
    "a,b,c,d,message\n",
    "~just wanted to make things more difficult for you\n",
    "~who reads CSV files with computers, anyway?\n",
    "1,2,3,4,hello\n",
    "5,6,7,8,world\n",
    "9,10,11,12,foo\n",
    "\n",
    "(New)\n",
    "pd.read_csv(\"examples/ex4.csv\", skiprows=[0, 2, 3])\n",
    " \n",
    "   a   b   c   d message\n",
    "0  1   2   3   4   hello\n",
    "1  5   6   7   8   world\n",
    "2  9  10  11  12     foo\n"
   ]
  },
  {
   "cell_type": "markdown",
   "id": "7f2a17fe-9e43-470c-a033-2e4a43bb3fd7",
   "metadata": {},
   "source": [
    "## Handeling NAs\n",
    "(original)\n",
    "something,a,b,c,d,message\n",
    "one,1,2,3,4,NA\n",
    "two,5,6,,8,world\n",
    "three,9,10,11,12,foo\n",
    "\n",
    "(Common result)\n",
    "result = pd.read_csv(\"examples/ex5.csv\")\n",
    "\n",
    "result \n",
    "  something  a   b     c   d message\n",
    "0       one  1   2   3.0   4     NaN\n",
    "1       two  5   6   NaN   8   world\n",
    "2     three  9  10  11.0  12     foo\n",
    "\n",
    ".isna will show two of these fields are True. We can prevent that to protect the data from other functions that might delete rows/cols with nas.\n",
    "\n",
    "result = pd.read_csv(\"examples/ex5.csv\", na_values=[\"Banana\"])\n",
    "\n",
    "result\n",
    "  something  a   b     c   d message\n",
    "0       one  1   2   3.0   4  Banana\n",
    "1       two  5   6 Banana  8   world\n",
    "2     three  9  10  11.0  12     foo\n",
    "\n",
    "You can also force isna to skip these nas as well.\n",
    "\n",
    "result2 = pd.read_csv(\"examples/ex5.csv\", keep_default_na=False)"
   ]
  }
 ],
 "metadata": {
  "kernelspec": {
   "display_name": "Python 3 (ipykernel)",
   "language": "python",
   "name": "python3"
  },
  "language_info": {
   "codemirror_mode": {
    "name": "ipython",
    "version": 3
   },
   "file_extension": ".py",
   "mimetype": "text/x-python",
   "name": "python",
   "nbconvert_exporter": "python",
   "pygments_lexer": "ipython3",
   "version": "3.12.5"
  }
 },
 "nbformat": 4,
 "nbformat_minor": 5
}
