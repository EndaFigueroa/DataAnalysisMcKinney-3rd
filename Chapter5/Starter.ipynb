{
 "cells": [
  {
   "cell_type": "code",
   "execution_count": 161,
   "id": "0c904fb8-cb73-459f-9a1f-314b5503f4de",
   "metadata": {},
   "outputs": [],
   "source": [
    "import pandas as pd\n",
    "import numpy as np\n",
    "from pandas import Series, DataFrame\n"
   ]
  },
  {
   "cell_type": "markdown",
   "id": "cc88105b-5aa2-481c-9b6b-671c7adb5aa9",
   "metadata": {},
   "source": [
    "<b><h1>Series   5.1 SERIES</h1></b>\n",
    "A series is a dict with one key and a number of values. When you use pd to display a series, it will list the values by index. "
   ]
  },
  {
   "cell_type": "code",
   "execution_count": 162,
   "id": "f9279337-ed53-4043-a14d-9c3168b7d85b",
   "metadata": {},
   "outputs": [
    {
     "data": {
      "text/plain": [
       "0     0\n",
       "1     2\n",
       "2     5\n",
       "3     9\n",
       "4    10\n",
       "dtype: int64"
      ]
     },
     "execution_count": 162,
     "metadata": {},
     "output_type": "execute_result"
    }
   ],
   "source": [
    "obj = pd.Series([0,2,5,9,10])\n",
    "obj"
   ]
  },
  {
   "cell_type": "markdown",
   "id": "3fcf4525-8e54-49c1-add5-892276aca2dc",
   "metadata": {},
   "source": [
    "You can <h2>name the index</h2> in order to label your rows. Make sure each part is in a list [ ]."
   ]
  },
  {
   "cell_type": "code",
   "execution_count": 163,
   "id": "a509098f-79b6-4ec5-b211-72c5ae518cd0",
   "metadata": {},
   "outputs": [
    {
     "data": {
      "text/plain": [
       "cats       4\n",
       "birds      3\n",
       "dogs       2\n",
       "spiders    9\n",
       "dtype: int64"
      ]
     },
     "execution_count": 163,
     "metadata": {},
     "output_type": "execute_result"
    }
   ],
   "source": [
    "obj2 = pd.Series([4,3,2,9], index=[\"cats\",\"birds\",\"dogs\",\"spiders\"])\n",
    "obj2"
   ]
  },
  {
   "cell_type": "markdown",
   "id": "0c9653eb-ade5-42fc-8b8f-9d43e89c40a8",
   "metadata": {},
   "source": [
    "<h2>Call cells</h2>\n",
    "You can then call cells via their index lables"
   ]
  },
  {
   "cell_type": "code",
   "execution_count": 164,
   "id": "f4e2e208-e428-43da-a56b-6a9b6ddfe07f",
   "metadata": {},
   "outputs": [
    {
     "name": "stdout",
     "output_type": "stream",
     "text": [
      "There are 4 cats.\n",
      "We have 2 dogs, and 9 spiders.\n"
     ]
    }
   ],
   "source": [
    "print(f\"There are {obj2[\"cats\"]} cats.\")\n",
    "print(f\"We have {obj2[\"dogs\"]} dogs, and {obj2[\"spiders\"]} spiders.\")"
   ]
  },
  {
   "cell_type": "markdown",
   "id": "8853c9d7-4d4f-4842-be50-bbffd6e6926f",
   "metadata": {},
   "source": [
    "You can use math and conditionals as well."
   ]
  },
  {
   "cell_type": "code",
   "execution_count": 165,
   "id": "423be777-21a8-4eda-9c91-e7dab2e5bb71",
   "metadata": {},
   "outputs": [
    {
     "data": {
      "text/plain": [
       "cats       4\n",
       "spiders    9\n",
       "dtype: int64"
      ]
     },
     "execution_count": 165,
     "metadata": {},
     "output_type": "execute_result"
    }
   ],
   "source": [
    "obj2[obj2>3]"
   ]
  },
  {
   "cell_type": "code",
   "execution_count": 166,
   "id": "b7f7d23e-1603-4cd5-837b-6e951ee4b7f0",
   "metadata": {},
   "outputs": [
    {
     "data": {
      "text/plain": [
       "False"
      ]
     },
     "execution_count": 166,
     "metadata": {},
     "output_type": "execute_result"
    }
   ],
   "source": [
    "\"fish\" in obj2"
   ]
  },
  {
   "cell_type": "code",
   "execution_count": 167,
   "id": "95dca3b3-08ce-499c-93fd-d76f35eb8658",
   "metadata": {},
   "outputs": [
    {
     "data": {
      "text/plain": [
       "np.False_"
      ]
     },
     "execution_count": 167,
     "metadata": {},
     "output_type": "execute_result"
    }
   ],
   "source": [
    "obj2[\"cats\"]==9"
   ]
  },
  {
   "cell_type": "markdown",
   "id": "d5a64c79-c7f2-49fe-a032-4ab014d4ddcd",
   "metadata": {},
   "source": [
    "You can pass in dicts."
   ]
  },
  {
   "cell_type": "code",
   "execution_count": 168,
   "id": "444f75d4-4bd6-4f51-b5c8-291d04ae1fec",
   "metadata": {},
   "outputs": [
    {
     "data": {
      "text/plain": [
       "red       2\n",
       "blue      5\n",
       "orange    1\n",
       "dtype: int64"
      ]
     },
     "execution_count": 168,
     "metadata": {},
     "output_type": "execute_result"
    }
   ],
   "source": [
    "yarns={\"red\":2,\"blue\":5,\"orange\":1}\n",
    "obj3 = pd.Series(yarns)\n",
    "obj3"
   ]
  },
  {
   "cell_type": "markdown",
   "id": "fee878c5-f3e5-400d-8263-a1e7f3c4604c",
   "metadata": {},
   "source": [
    "<h2>.to_</h2>\n",
    "This allows you to rewrite series and DFs into CSVs, SQLS, dicts, or JSON."
   ]
  },
  {
   "cell_type": "code",
   "execution_count": 169,
   "id": "52faaaa4-b725-4a34-a881-3bdcfc21ccdd",
   "metadata": {},
   "outputs": [
    {
     "data": {
      "text/plain": [
       "{'red': 2, 'blue': 5, 'orange': 1}"
      ]
     },
     "execution_count": 169,
     "metadata": {},
     "output_type": "execute_result"
    }
   ],
   "source": [
    "obj3.to_dict()"
   ]
  },
  {
   "cell_type": "markdown",
   "id": "e87df795-373d-43f8-b7f5-69cb979f0f83",
   "metadata": {},
   "source": [
    "You can add tables together."
   ]
  },
  {
   "cell_type": "code",
   "execution_count": 170,
   "id": "1b36be45-adc0-420d-972e-4bc4125162be",
   "metadata": {},
   "outputs": [
    {
     "data": {
      "text/plain": [
       "birds     NaN\n",
       "blue      NaN\n",
       "cats      NaN\n",
       "dogs      NaN\n",
       "orange    NaN\n",
       "red       NaN\n",
       "spiders   NaN\n",
       "dtype: float64"
      ]
     },
     "execution_count": 170,
     "metadata": {},
     "output_type": "execute_result"
    }
   ],
   "source": [
    "obj2+obj3"
   ]
  },
  {
   "cell_type": "markdown",
   "id": "eac8f84f-9972-42b8-bb7c-ef516ab7d7aa",
   "metadata": {},
   "source": [
    "<h2>.name=</h2>\n",
    "You can give a label to your index with .name"
   ]
  },
  {
   "cell_type": "code",
   "execution_count": 171,
   "id": "7e7e5953-ab79-49c5-93a3-1d4ba6e6feb1",
   "metadata": {},
   "outputs": [
    {
     "data": {
      "text/plain": [
       "Colors\n",
       "red       2\n",
       "blue      5\n",
       "orange    1\n",
       "Name: Yarn Inventory, dtype: int64"
      ]
     },
     "execution_count": 171,
     "metadata": {},
     "output_type": "execute_result"
    }
   ],
   "source": [
    "obj3.index.name=\"Colors\"\n",
    "obj3.name=\"Yarn Inventory\"\n",
    "obj3"
   ]
  },
  {
   "cell_type": "markdown",
   "id": "dcb17cc2-bc74-46b7-ad36-6235de182a4e",
   "metadata": {},
   "source": [
    "<b><h1>DataFrame    5.1 DATAFRAME</h1></b>\n",
    "DataFrames are two series placed together. They can be made from dicts of equal lengths, csvs, jsons, and sqls."
   ]
  },
  {
   "cell_type": "code",
   "execution_count": 172,
   "id": "01621af4-33d0-4866-a384-cd2fe1d36635",
   "metadata": {},
   "outputs": [
    {
     "data": {
      "text/html": [
       "<div>\n",
       "<style scoped>\n",
       "    .dataframe tbody tr th:only-of-type {\n",
       "        vertical-align: middle;\n",
       "    }\n",
       "\n",
       "    .dataframe tbody tr th {\n",
       "        vertical-align: top;\n",
       "    }\n",
       "\n",
       "    .dataframe thead th {\n",
       "        text-align: right;\n",
       "    }\n",
       "</style>\n",
       "<table border=\"1\" class=\"dataframe\">\n",
       "  <thead>\n",
       "    <tr style=\"text-align: right;\">\n",
       "      <th></th>\n",
       "      <th>Magic</th>\n",
       "      <th>Mane Color</th>\n",
       "      <th>Age</th>\n",
       "    </tr>\n",
       "  </thead>\n",
       "  <tbody>\n",
       "    <tr>\n",
       "      <th>0</th>\n",
       "      <td>Glitter Bomb</td>\n",
       "      <td>Pink</td>\n",
       "      <td>209</td>\n",
       "    </tr>\n",
       "    <tr>\n",
       "      <th>1</th>\n",
       "      <td>Icey Beam</td>\n",
       "      <td>White</td>\n",
       "      <td>3094</td>\n",
       "    </tr>\n",
       "    <tr>\n",
       "      <th>2</th>\n",
       "      <td>Petal Flurry</td>\n",
       "      <td>Red</td>\n",
       "      <td>200</td>\n",
       "    </tr>\n",
       "    <tr>\n",
       "      <th>3</th>\n",
       "      <td>Sugar Crash</td>\n",
       "      <td>Green</td>\n",
       "      <td>35</td>\n",
       "    </tr>\n",
       "  </tbody>\n",
       "</table>\n",
       "</div>"
      ],
      "text/plain": [
       "          Magic Mane Color   Age\n",
       "0  Glitter Bomb       Pink   209\n",
       "1     Icey Beam      White  3094\n",
       "2  Petal Flurry        Red   200\n",
       "3   Sugar Crash      Green    35"
      ]
     },
     "execution_count": 172,
     "metadata": {},
     "output_type": "execute_result"
    }
   ],
   "source": [
    "data = {\"Magic\":[\"Glitter Bomb\",\"Icey Beam\",\"Petal Flurry\",\"Sugar Crash\"],\"Mane Color\":[\"Pink\",\"White\",\"Red\",\"Green\"],\"Age\":[209,3094,200,35]}\n",
    "frame = pd.DataFrame(data)\n",
    "frame"
   ]
  },
  {
   "cell_type": "markdown",
   "id": "3f99d167-fcbb-446b-a246-530aa764089f",
   "metadata": {},
   "source": [
    "<h2>.head and .tail</h2> \n",
    "They will give the first or last 5 lines of a df. You can add a number to the () to give a specific amount of lines. You can also specify the order of cols."
   ]
  },
  {
   "cell_type": "code",
   "execution_count": 173,
   "id": "4f8cb85f-3ae5-4ccf-a506-5680225bad91",
   "metadata": {},
   "outputs": [
    {
     "data": {
      "text/html": [
       "<div>\n",
       "<style scoped>\n",
       "    .dataframe tbody tr th:only-of-type {\n",
       "        vertical-align: middle;\n",
       "    }\n",
       "\n",
       "    .dataframe tbody tr th {\n",
       "        vertical-align: top;\n",
       "    }\n",
       "\n",
       "    .dataframe thead th {\n",
       "        text-align: right;\n",
       "    }\n",
       "</style>\n",
       "<table border=\"1\" class=\"dataframe\">\n",
       "  <thead>\n",
       "    <tr style=\"text-align: right;\">\n",
       "      <th></th>\n",
       "      <th>Age</th>\n",
       "      <th>Mane Color</th>\n",
       "      <th>Magic</th>\n",
       "    </tr>\n",
       "  </thead>\n",
       "  <tbody>\n",
       "    <tr>\n",
       "      <th>0</th>\n",
       "      <td>209</td>\n",
       "      <td>Pink</td>\n",
       "      <td>Glitter Bomb</td>\n",
       "    </tr>\n",
       "    <tr>\n",
       "      <th>1</th>\n",
       "      <td>3094</td>\n",
       "      <td>White</td>\n",
       "      <td>Icey Beam</td>\n",
       "    </tr>\n",
       "    <tr>\n",
       "      <th>2</th>\n",
       "      <td>200</td>\n",
       "      <td>Red</td>\n",
       "      <td>Petal Flurry</td>\n",
       "    </tr>\n",
       "    <tr>\n",
       "      <th>3</th>\n",
       "      <td>35</td>\n",
       "      <td>Green</td>\n",
       "      <td>Sugar Crash</td>\n",
       "    </tr>\n",
       "  </tbody>\n",
       "</table>\n",
       "</div>"
      ],
      "text/plain": [
       "    Age Mane Color         Magic\n",
       "0   209       Pink  Glitter Bomb\n",
       "1  3094      White     Icey Beam\n",
       "2   200        Red  Petal Flurry\n",
       "3    35      Green   Sugar Crash"
      ]
     },
     "execution_count": 173,
     "metadata": {},
     "output_type": "execute_result"
    }
   ],
   "source": [
    "pd.DataFrame(data, columns=[\"Age\",\"Mane Color\",\"Magic\"])"
   ]
  },
  {
   "cell_type": "markdown",
   "id": "5dafcd7c-2afe-4d84-8106-d2862baf3d72",
   "metadata": {},
   "source": [
    "<h2>df[\"col name\"] and loc[]/iloc[]</h2>\n",
    "You can call a col by [\"col name\"] and a row with loc and iloc for the row index. You can print ranges of rows by adding indexs to iloc. Caps matter!"
   ]
  },
  {
   "cell_type": "code",
   "execution_count": 174,
   "id": "a067a8e3-6c63-4792-a68f-429d157d2b8f",
   "metadata": {},
   "outputs": [
    {
     "data": {
      "text/plain": [
       "0     209\n",
       "1    3094\n",
       "2     200\n",
       "3      35\n",
       "Name: Age, dtype: int64"
      ]
     },
     "execution_count": 174,
     "metadata": {},
     "output_type": "execute_result"
    }
   ],
   "source": [
    "frame[\"Age\"]"
   ]
  },
  {
   "cell_type": "code",
   "execution_count": 175,
   "id": "538d4c17-7e78-47c9-a3ad-8a5c85f96281",
   "metadata": {},
   "outputs": [
    {
     "data": {
      "text/plain": [
       "Magic         Petal Flurry\n",
       "Mane Color             Red\n",
       "Age                    200\n",
       "Name: 2, dtype: object"
      ]
     },
     "execution_count": 175,
     "metadata": {},
     "output_type": "execute_result"
    }
   ],
   "source": [
    "frame.loc[2]"
   ]
  },
  {
   "cell_type": "code",
   "execution_count": 176,
   "id": "1904227c-f8e5-41b6-a027-9838eb8bf68c",
   "metadata": {},
   "outputs": [
    {
     "data": {
      "text/html": [
       "<div>\n",
       "<style scoped>\n",
       "    .dataframe tbody tr th:only-of-type {\n",
       "        vertical-align: middle;\n",
       "    }\n",
       "\n",
       "    .dataframe tbody tr th {\n",
       "        vertical-align: top;\n",
       "    }\n",
       "\n",
       "    .dataframe thead th {\n",
       "        text-align: right;\n",
       "    }\n",
       "</style>\n",
       "<table border=\"1\" class=\"dataframe\">\n",
       "  <thead>\n",
       "    <tr style=\"text-align: right;\">\n",
       "      <th></th>\n",
       "      <th>Magic</th>\n",
       "      <th>Mane Color</th>\n",
       "      <th>Age</th>\n",
       "    </tr>\n",
       "  </thead>\n",
       "  <tbody>\n",
       "    <tr>\n",
       "      <th>2</th>\n",
       "      <td>Petal Flurry</td>\n",
       "      <td>Red</td>\n",
       "      <td>200</td>\n",
       "    </tr>\n",
       "    <tr>\n",
       "      <th>3</th>\n",
       "      <td>Sugar Crash</td>\n",
       "      <td>Green</td>\n",
       "      <td>35</td>\n",
       "    </tr>\n",
       "  </tbody>\n",
       "</table>\n",
       "</div>"
      ],
      "text/plain": [
       "          Magic Mane Color  Age\n",
       "2  Petal Flurry        Red  200\n",
       "3   Sugar Crash      Green   35"
      ]
     },
     "execution_count": 176,
     "metadata": {},
     "output_type": "execute_result"
    }
   ],
   "source": [
    "frame.iloc[2:]"
   ]
  },
  {
   "cell_type": "markdown",
   "id": "1322e135-7290-4f6f-a0e4-aad2becfd271",
   "metadata": {},
   "source": [
    "(5.2) loc and iloc can reutrn a new df by listing more than one thing in the index."
   ]
  },
  {
   "cell_type": "code",
   "execution_count": 192,
   "id": "6d9fb2da-2a6a-4c62-8058-a0da334a887f",
   "metadata": {},
   "outputs": [
    {
     "data": {
      "text/html": [
       "<div>\n",
       "<style scoped>\n",
       "    .dataframe tbody tr th:only-of-type {\n",
       "        vertical-align: middle;\n",
       "    }\n",
       "\n",
       "    .dataframe tbody tr th {\n",
       "        vertical-align: top;\n",
       "    }\n",
       "\n",
       "    .dataframe thead th {\n",
       "        text-align: right;\n",
       "    }\n",
       "</style>\n",
       "<table border=\"1\" class=\"dataframe\">\n",
       "  <thead>\n",
       "    <tr style=\"text-align: right;\">\n",
       "      <th></th>\n",
       "      <th>Magic</th>\n",
       "      <th>Mane Color</th>\n",
       "      <th>Age</th>\n",
       "      <th>Biome</th>\n",
       "    </tr>\n",
       "  </thead>\n",
       "  <tbody>\n",
       "    <tr>\n",
       "      <th>Sparkles</th>\n",
       "      <td>Glitter Bomb</td>\n",
       "      <td>Pink</td>\n",
       "      <td>209</td>\n",
       "      <td>Forest</td>\n",
       "    </tr>\n",
       "    <tr>\n",
       "      <th>Moonbeam</th>\n",
       "      <td>Icey Beam</td>\n",
       "      <td>White</td>\n",
       "      <td>3094</td>\n",
       "      <td>Artic</td>\n",
       "    </tr>\n",
       "    <tr>\n",
       "      <th>Rosey Pie</th>\n",
       "      <td>Petal Flurry</td>\n",
       "      <td>Red</td>\n",
       "      <td>200</td>\n",
       "      <td>Gardens</td>\n",
       "    </tr>\n",
       "    <tr>\n",
       "      <th>Sprinkles</th>\n",
       "      <td>Sugar Crash</td>\n",
       "      <td>Green</td>\n",
       "      <td>35</td>\n",
       "      <td>Clouds</td>\n",
       "    </tr>\n",
       "  </tbody>\n",
       "</table>\n",
       "</div>"
      ],
      "text/plain": [
       "                  Magic Mane Color   Age    Biome\n",
       "Sparkles   Glitter Bomb       Pink   209   Forest\n",
       "Moonbeam      Icey Beam      White  3094    Artic\n",
       "Rosey Pie  Petal Flurry        Red   200  Gardens\n",
       "Sprinkles   Sugar Crash      Green    35   Clouds"
      ]
     },
     "execution_count": 192,
     "metadata": {},
     "output_type": "execute_result"
    }
   ],
   "source": [
    "frame"
   ]
  },
  {
   "cell_type": "code",
   "execution_count": 191,
   "id": "ba6b3db0-2058-47e8-b574-f33392b0d392",
   "metadata": {},
   "outputs": [
    {
     "data": {
      "text/plain": [
       "Age                    209\n",
       "Magic         Glitter Bomb\n",
       "Mane Color            Pink\n",
       "Name: Sparkles, dtype: object"
      ]
     },
     "execution_count": 191,
     "metadata": {},
     "output_type": "execute_result"
    }
   ],
   "source": [
    "#row 0 Sparkles, columns 2,0,1 listed\n",
    "weird = frame.iloc[0,[2,0,1]]\n",
    "weird"
   ]
  },
  {
   "cell_type": "markdown",
   "id": "de2532af-8752-48b3-876e-5a27285d63a5",
   "metadata": {},
   "source": [
    "You can use label names with .loc"
   ]
  },
  {
   "cell_type": "code",
   "execution_count": 204,
   "id": "4a4b91de-d7ef-4a03-8d75-1703e33cd401",
   "metadata": {},
   "outputs": [
    {
     "data": {
      "text/html": [
       "<div>\n",
       "<style scoped>\n",
       "    .dataframe tbody tr th:only-of-type {\n",
       "        vertical-align: middle;\n",
       "    }\n",
       "\n",
       "    .dataframe tbody tr th {\n",
       "        vertical-align: top;\n",
       "    }\n",
       "\n",
       "    .dataframe thead th {\n",
       "        text-align: right;\n",
       "    }\n",
       "</style>\n",
       "<table border=\"1\" class=\"dataframe\">\n",
       "  <thead>\n",
       "    <tr style=\"text-align: right;\">\n",
       "      <th></th>\n",
       "      <th>Magic</th>\n",
       "      <th>Mane Color</th>\n",
       "      <th>Age</th>\n",
       "      <th>Biome</th>\n",
       "    </tr>\n",
       "  </thead>\n",
       "  <tbody>\n",
       "    <tr>\n",
       "      <th>Sparkles</th>\n",
       "      <td>Glitter Bomb</td>\n",
       "      <td>Pink</td>\n",
       "      <td>209</td>\n",
       "      <td>Forest</td>\n",
       "    </tr>\n",
       "    <tr>\n",
       "      <th>Moonbeam</th>\n",
       "      <td>Icey Beam</td>\n",
       "      <td>White</td>\n",
       "      <td>3094</td>\n",
       "      <td>Artic</td>\n",
       "    </tr>\n",
       "    <tr>\n",
       "      <th>Rosey Pie</th>\n",
       "      <td>Petal Flurry</td>\n",
       "      <td>Red</td>\n",
       "      <td>200</td>\n",
       "      <td>Gardens</td>\n",
       "    </tr>\n",
       "    <tr>\n",
       "      <th>Sprinkles</th>\n",
       "      <td>Sugar Crash</td>\n",
       "      <td>Green</td>\n",
       "      <td>35</td>\n",
       "      <td>Clouds</td>\n",
       "    </tr>\n",
       "  </tbody>\n",
       "</table>\n",
       "</div>"
      ],
      "text/plain": [
       "                  Magic Mane Color   Age    Biome\n",
       "Sparkles   Glitter Bomb       Pink   209   Forest\n",
       "Moonbeam      Icey Beam      White  3094    Artic\n",
       "Rosey Pie  Petal Flurry        Red   200  Gardens\n",
       "Sprinkles   Sugar Crash      Green    35   Clouds"
      ]
     },
     "execution_count": 204,
     "metadata": {},
     "output_type": "execute_result"
    }
   ],
   "source": [
    "frame"
   ]
  },
  {
   "cell_type": "code",
   "execution_count": 203,
   "id": "935e955c-ac9b-46ff-a110-0a2750241433",
   "metadata": {},
   "outputs": [
    {
     "data": {
      "text/plain": [
       "Age           3094\n",
       "Magic    Icey Beam\n",
       "Name: Moonbeam, dtype: object"
      ]
     },
     "execution_count": 203,
     "metadata": {},
     "output_type": "execute_result"
    }
   ],
   "source": [
    "wut=frame.loc[\"Moonbeam\",[\"Age\",\"Magic\"]]\n",
    "wut"
   ]
  },
  {
   "cell_type": "code",
   "execution_count": 198,
   "id": "5aca87f4-94ad-4198-9127-7c5c8f64e20f",
   "metadata": {},
   "outputs": [
    {
     "data": {
      "text/html": [
       "<div>\n",
       "<style scoped>\n",
       "    .dataframe tbody tr th:only-of-type {\n",
       "        vertical-align: middle;\n",
       "    }\n",
       "\n",
       "    .dataframe tbody tr th {\n",
       "        vertical-align: top;\n",
       "    }\n",
       "\n",
       "    .dataframe thead th {\n",
       "        text-align: right;\n",
       "    }\n",
       "</style>\n",
       "<table border=\"1\" class=\"dataframe\">\n",
       "  <thead>\n",
       "    <tr style=\"text-align: right;\">\n",
       "      <th></th>\n",
       "      <th>Magic</th>\n",
       "      <th>Mane Color</th>\n",
       "      <th>Age</th>\n",
       "      <th>Biome</th>\n",
       "    </tr>\n",
       "  </thead>\n",
       "  <tbody>\n",
       "    <tr>\n",
       "      <th>Sparkles</th>\n",
       "      <td>Glitter Bomb</td>\n",
       "      <td>Pink</td>\n",
       "      <td>209</td>\n",
       "      <td>Forest</td>\n",
       "    </tr>\n",
       "    <tr>\n",
       "      <th>Moonbeam</th>\n",
       "      <td>Icey Beam</td>\n",
       "      <td>White</td>\n",
       "      <td>3094</td>\n",
       "      <td>Artic</td>\n",
       "    </tr>\n",
       "    <tr>\n",
       "      <th>Rosey Pie</th>\n",
       "      <td>Petal Flurry</td>\n",
       "      <td>Red</td>\n",
       "      <td>200</td>\n",
       "      <td>Gardens</td>\n",
       "    </tr>\n",
       "  </tbody>\n",
       "</table>\n",
       "</div>"
      ],
      "text/plain": [
       "                  Magic Mane Color   Age    Biome\n",
       "Sparkles   Glitter Bomb       Pink   209   Forest\n",
       "Moonbeam      Icey Beam      White  3094    Artic\n",
       "Rosey Pie  Petal Flurry        Red   200  Gardens"
      ]
     },
     "execution_count": 198,
     "metadata": {},
     "output_type": "execute_result"
    }
   ],
   "source": [
    "#.column name and then a conditional narrows the table\n",
    "odd=frame.loc[:][frame.Age >100]\n",
    "odd"
   ]
  },
  {
   "cell_type": "markdown",
   "id": "35f9a3f3-c22e-4ae1-93b5-62caf82c44f4",
   "metadata": {},
   "source": [
    "You can also rewrite data using loc. "
   ]
  },
  {
   "cell_type": "code",
   "execution_count": 207,
   "id": "9d33ecfa-3042-4ee7-a143-9c859ef959a4",
   "metadata": {},
   "outputs": [
    {
     "data": {
      "text/html": [
       "<div>\n",
       "<style scoped>\n",
       "    .dataframe tbody tr th:only-of-type {\n",
       "        vertical-align: middle;\n",
       "    }\n",
       "\n",
       "    .dataframe tbody tr th {\n",
       "        vertical-align: top;\n",
       "    }\n",
       "\n",
       "    .dataframe thead th {\n",
       "        text-align: right;\n",
       "    }\n",
       "</style>\n",
       "<table border=\"1\" class=\"dataframe\">\n",
       "  <thead>\n",
       "    <tr style=\"text-align: right;\">\n",
       "      <th></th>\n",
       "      <th>Magic</th>\n",
       "      <th>Mane Color</th>\n",
       "      <th>Age</th>\n",
       "      <th>Biome</th>\n",
       "    </tr>\n",
       "  </thead>\n",
       "  <tbody>\n",
       "    <tr>\n",
       "      <th>Sparkles</th>\n",
       "      <td>Glitter Bomb</td>\n",
       "      <td>Pink</td>\n",
       "      <td>211</td>\n",
       "      <td>Forest</td>\n",
       "    </tr>\n",
       "    <tr>\n",
       "      <th>Moonbeam</th>\n",
       "      <td>Icey Beam</td>\n",
       "      <td>White</td>\n",
       "      <td>3094</td>\n",
       "      <td>Artic</td>\n",
       "    </tr>\n",
       "    <tr>\n",
       "      <th>Rosey Pie</th>\n",
       "      <td>Petal Flurry</td>\n",
       "      <td>Red</td>\n",
       "      <td>200</td>\n",
       "      <td>Gardens</td>\n",
       "    </tr>\n",
       "    <tr>\n",
       "      <th>Sprinkles</th>\n",
       "      <td>Sugar Crash</td>\n",
       "      <td>Green</td>\n",
       "      <td>35</td>\n",
       "      <td>Clouds</td>\n",
       "    </tr>\n",
       "  </tbody>\n",
       "</table>\n",
       "</div>"
      ],
      "text/plain": [
       "                  Magic Mane Color   Age    Biome\n",
       "Sparkles   Glitter Bomb       Pink   211   Forest\n",
       "Moonbeam      Icey Beam      White  3094    Artic\n",
       "Rosey Pie  Petal Flurry        Red   200  Gardens\n",
       "Sprinkles   Sugar Crash      Green    35   Clouds"
      ]
     },
     "execution_count": 207,
     "metadata": {},
     "output_type": "execute_result"
    }
   ],
   "source": [
    "frame.loc[frame.Age==209, \"Age\"]=211\n",
    "frame"
   ]
  },
  {
   "cell_type": "code",
   "execution_count": null,
   "id": "b9344dbc-7d30-430b-8262-c956a4a081c4",
   "metadata": {},
   "outputs": [],
   "source": [
    "Happy birthday Sparkles!"
   ]
  },
  {
   "cell_type": "markdown",
   "id": "8012442c-2037-46a6-99d2-f6ec3c4abdbb",
   "metadata": {},
   "source": [
    "<h2>Add a column</h2>\n",
    "Add a column by naming the df, [\"col name\"]=[value list]. "
   ]
  },
  {
   "cell_type": "code",
   "execution_count": 177,
   "id": "c68b3e31-0d25-45cc-ac51-6cbf29ef1040",
   "metadata": {},
   "outputs": [
    {
     "data": {
      "text/html": [
       "<div>\n",
       "<style scoped>\n",
       "    .dataframe tbody tr th:only-of-type {\n",
       "        vertical-align: middle;\n",
       "    }\n",
       "\n",
       "    .dataframe tbody tr th {\n",
       "        vertical-align: top;\n",
       "    }\n",
       "\n",
       "    .dataframe thead th {\n",
       "        text-align: right;\n",
       "    }\n",
       "</style>\n",
       "<table border=\"1\" class=\"dataframe\">\n",
       "  <thead>\n",
       "    <tr style=\"text-align: right;\">\n",
       "      <th></th>\n",
       "      <th>Magic</th>\n",
       "      <th>Mane Color</th>\n",
       "      <th>Age</th>\n",
       "      <th>Biome</th>\n",
       "    </tr>\n",
       "  </thead>\n",
       "  <tbody>\n",
       "    <tr>\n",
       "      <th>0</th>\n",
       "      <td>Glitter Bomb</td>\n",
       "      <td>Pink</td>\n",
       "      <td>209</td>\n",
       "      <td>Forest</td>\n",
       "    </tr>\n",
       "    <tr>\n",
       "      <th>1</th>\n",
       "      <td>Icey Beam</td>\n",
       "      <td>White</td>\n",
       "      <td>3094</td>\n",
       "      <td>Artic</td>\n",
       "    </tr>\n",
       "    <tr>\n",
       "      <th>2</th>\n",
       "      <td>Petal Flurry</td>\n",
       "      <td>Red</td>\n",
       "      <td>200</td>\n",
       "      <td>Gardens</td>\n",
       "    </tr>\n",
       "    <tr>\n",
       "      <th>3</th>\n",
       "      <td>Sugar Crash</td>\n",
       "      <td>Green</td>\n",
       "      <td>35</td>\n",
       "      <td>Clouds</td>\n",
       "    </tr>\n",
       "  </tbody>\n",
       "</table>\n",
       "</div>"
      ],
      "text/plain": [
       "          Magic Mane Color   Age    Biome\n",
       "0  Glitter Bomb       Pink   209   Forest\n",
       "1     Icey Beam      White  3094    Artic\n",
       "2  Petal Flurry        Red   200  Gardens\n",
       "3   Sugar Crash      Green    35   Clouds"
      ]
     },
     "execution_count": 177,
     "metadata": {},
     "output_type": "execute_result"
    }
   ],
   "source": [
    "frame[\"Biome\"]=[\"Forest\",\"Artic\",\"Gardens\",\"Clouds\"]\n",
    "frame"
   ]
  },
  {
   "cell_type": "markdown",
   "id": "ff9aadff-72ef-468f-b319-ccf6db833d73",
   "metadata": {},
   "source": [
    "<h2>Incomplete Series addition with idexes</h2>\n",
    "You can add a series with mising vals by including the indexs."
   ]
  },
  {
   "cell_type": "code",
   "execution_count": 178,
   "id": "e6329f94-1c9d-4236-b41b-529771022325",
   "metadata": {},
   "outputs": [
    {
     "data": {
      "text/html": [
       "<div>\n",
       "<style scoped>\n",
       "    .dataframe tbody tr th:only-of-type {\n",
       "        vertical-align: middle;\n",
       "    }\n",
       "\n",
       "    .dataframe tbody tr th {\n",
       "        vertical-align: top;\n",
       "    }\n",
       "\n",
       "    .dataframe thead th {\n",
       "        text-align: right;\n",
       "    }\n",
       "</style>\n",
       "<table border=\"1\" class=\"dataframe\">\n",
       "  <thead>\n",
       "    <tr style=\"text-align: right;\">\n",
       "      <th></th>\n",
       "      <th>Magic</th>\n",
       "      <th>Mane Color</th>\n",
       "      <th>Age</th>\n",
       "      <th>Biome</th>\n",
       "      <th>Scent</th>\n",
       "    </tr>\n",
       "  </thead>\n",
       "  <tbody>\n",
       "    <tr>\n",
       "      <th>0</th>\n",
       "      <td>Glitter Bomb</td>\n",
       "      <td>Pink</td>\n",
       "      <td>209</td>\n",
       "      <td>Forest</td>\n",
       "      <td>NaN</td>\n",
       "    </tr>\n",
       "    <tr>\n",
       "      <th>1</th>\n",
       "      <td>Icey Beam</td>\n",
       "      <td>White</td>\n",
       "      <td>3094</td>\n",
       "      <td>Artic</td>\n",
       "      <td>Mint</td>\n",
       "    </tr>\n",
       "    <tr>\n",
       "      <th>2</th>\n",
       "      <td>Petal Flurry</td>\n",
       "      <td>Red</td>\n",
       "      <td>200</td>\n",
       "      <td>Gardens</td>\n",
       "      <td>Rose</td>\n",
       "    </tr>\n",
       "    <tr>\n",
       "      <th>3</th>\n",
       "      <td>Sugar Crash</td>\n",
       "      <td>Green</td>\n",
       "      <td>35</td>\n",
       "      <td>Clouds</td>\n",
       "      <td>NaN</td>\n",
       "    </tr>\n",
       "  </tbody>\n",
       "</table>\n",
       "</div>"
      ],
      "text/plain": [
       "          Magic Mane Color   Age    Biome Scent\n",
       "0  Glitter Bomb       Pink   209   Forest   NaN\n",
       "1     Icey Beam      White  3094    Artic  Mint\n",
       "2  Petal Flurry        Red   200  Gardens  Rose\n",
       "3   Sugar Crash      Green    35   Clouds   NaN"
      ]
     },
     "execution_count": 178,
     "metadata": {},
     "output_type": "execute_result"
    }
   ],
   "source": [
    "scent = pd.Series([\"Mint\",\"Rose\"], index=[1,2])\n",
    "frame[\"Scent\"]=scent\n",
    "frame"
   ]
  },
  {
   "cell_type": "code",
   "execution_count": 179,
   "id": "e085d73b-ae01-4dd8-9d5c-a6968bada89c",
   "metadata": {},
   "outputs": [
    {
     "data": {
      "text/html": [
       "<div>\n",
       "<style scoped>\n",
       "    .dataframe tbody tr th:only-of-type {\n",
       "        vertical-align: middle;\n",
       "    }\n",
       "\n",
       "    .dataframe tbody tr th {\n",
       "        vertical-align: top;\n",
       "    }\n",
       "\n",
       "    .dataframe thead th {\n",
       "        text-align: right;\n",
       "    }\n",
       "</style>\n",
       "<table border=\"1\" class=\"dataframe\">\n",
       "  <thead>\n",
       "    <tr style=\"text-align: right;\">\n",
       "      <th></th>\n",
       "      <th>Magic</th>\n",
       "      <th>Mane Color</th>\n",
       "      <th>Age</th>\n",
       "      <th>Biome</th>\n",
       "      <th>Scent</th>\n",
       "    </tr>\n",
       "  </thead>\n",
       "  <tbody>\n",
       "    <tr>\n",
       "      <th>Sparkles</th>\n",
       "      <td>Glitter Bomb</td>\n",
       "      <td>Pink</td>\n",
       "      <td>209</td>\n",
       "      <td>Forest</td>\n",
       "      <td>NaN</td>\n",
       "    </tr>\n",
       "    <tr>\n",
       "      <th>Moonbeam</th>\n",
       "      <td>Icey Beam</td>\n",
       "      <td>White</td>\n",
       "      <td>3094</td>\n",
       "      <td>Artic</td>\n",
       "      <td>Mint</td>\n",
       "    </tr>\n",
       "    <tr>\n",
       "      <th>Rosey Pie</th>\n",
       "      <td>Petal Flurry</td>\n",
       "      <td>Red</td>\n",
       "      <td>200</td>\n",
       "      <td>Gardens</td>\n",
       "      <td>Rose</td>\n",
       "    </tr>\n",
       "    <tr>\n",
       "      <th>Sprinkles</th>\n",
       "      <td>Sugar Crash</td>\n",
       "      <td>Green</td>\n",
       "      <td>35</td>\n",
       "      <td>Clouds</td>\n",
       "      <td>NaN</td>\n",
       "    </tr>\n",
       "  </tbody>\n",
       "</table>\n",
       "</div>"
      ],
      "text/plain": [
       "                  Magic Mane Color   Age    Biome Scent\n",
       "Sparkles   Glitter Bomb       Pink   209   Forest   NaN\n",
       "Moonbeam      Icey Beam      White  3094    Artic  Mint\n",
       "Rosey Pie  Petal Flurry        Red   200  Gardens  Rose\n",
       "Sprinkles   Sugar Crash      Green    35   Clouds   NaN"
      ]
     },
     "execution_count": 179,
     "metadata": {},
     "output_type": "execute_result"
    }
   ],
   "source": [
    "frame.index=[\"Sparkles\",\"Moonbeam\",\"Rosey Pie\",\"Sprinkles\"]\n",
    "frame\n",
    "#Tired of not having names on the index"
   ]
  },
  {
   "cell_type": "markdown",
   "id": "6089a44a-1ea8-4f28-85af-210ceea2e2b5",
   "metadata": {},
   "source": [
    "<h2>del to delete</h2>\n",
    "Delete cols with del"
   ]
  },
  {
   "cell_type": "code",
   "execution_count": 180,
   "id": "2165a70a-b93a-4e50-92c5-a5c61dd33217",
   "metadata": {},
   "outputs": [
    {
     "data": {
      "text/html": [
       "<div>\n",
       "<style scoped>\n",
       "    .dataframe tbody tr th:only-of-type {\n",
       "        vertical-align: middle;\n",
       "    }\n",
       "\n",
       "    .dataframe tbody tr th {\n",
       "        vertical-align: top;\n",
       "    }\n",
       "\n",
       "    .dataframe thead th {\n",
       "        text-align: right;\n",
       "    }\n",
       "</style>\n",
       "<table border=\"1\" class=\"dataframe\">\n",
       "  <thead>\n",
       "    <tr style=\"text-align: right;\">\n",
       "      <th></th>\n",
       "      <th>Magic</th>\n",
       "      <th>Mane Color</th>\n",
       "      <th>Age</th>\n",
       "      <th>Biome</th>\n",
       "    </tr>\n",
       "  </thead>\n",
       "  <tbody>\n",
       "    <tr>\n",
       "      <th>Sparkles</th>\n",
       "      <td>Glitter Bomb</td>\n",
       "      <td>Pink</td>\n",
       "      <td>209</td>\n",
       "      <td>Forest</td>\n",
       "    </tr>\n",
       "    <tr>\n",
       "      <th>Moonbeam</th>\n",
       "      <td>Icey Beam</td>\n",
       "      <td>White</td>\n",
       "      <td>3094</td>\n",
       "      <td>Artic</td>\n",
       "    </tr>\n",
       "    <tr>\n",
       "      <th>Rosey Pie</th>\n",
       "      <td>Petal Flurry</td>\n",
       "      <td>Red</td>\n",
       "      <td>200</td>\n",
       "      <td>Gardens</td>\n",
       "    </tr>\n",
       "    <tr>\n",
       "      <th>Sprinkles</th>\n",
       "      <td>Sugar Crash</td>\n",
       "      <td>Green</td>\n",
       "      <td>35</td>\n",
       "      <td>Clouds</td>\n",
       "    </tr>\n",
       "  </tbody>\n",
       "</table>\n",
       "</div>"
      ],
      "text/plain": [
       "                  Magic Mane Color   Age    Biome\n",
       "Sparkles   Glitter Bomb       Pink   209   Forest\n",
       "Moonbeam      Icey Beam      White  3094    Artic\n",
       "Rosey Pie  Petal Flurry        Red   200  Gardens\n",
       "Sprinkles   Sugar Crash      Green    35   Clouds"
      ]
     },
     "execution_count": 180,
     "metadata": {},
     "output_type": "execute_result"
    }
   ],
   "source": [
    "del frame[\"Scent\"]\n",
    "frame"
   ]
  },
  {
   "cell_type": "markdown",
   "id": "013dab5d-a562-4980-9db3-7adf736b899d",
   "metadata": {},
   "source": [
    "<h2>DF made by dict of dicts</h2>\n",
    "You can pass in a dict of dict and Pandas will name the cols with the outer keys and the indexs with the inner keys."
   ]
  },
  {
   "cell_type": "code",
   "execution_count": 181,
   "id": "7fe904cc-160b-46b8-85db-57e38a47f316",
   "metadata": {},
   "outputs": [
    {
     "data": {
      "text/html": [
       "<div>\n",
       "<style scoped>\n",
       "    .dataframe tbody tr th:only-of-type {\n",
       "        vertical-align: middle;\n",
       "    }\n",
       "\n",
       "    .dataframe tbody tr th {\n",
       "        vertical-align: top;\n",
       "    }\n",
       "\n",
       "    .dataframe thead th {\n",
       "        text-align: right;\n",
       "    }\n",
       "</style>\n",
       "<table border=\"1\" class=\"dataframe\">\n",
       "  <thead>\n",
       "    <tr style=\"text-align: right;\">\n",
       "      <th></th>\n",
       "      <th>Job</th>\n",
       "      <th>Fav Food</th>\n",
       "    </tr>\n",
       "  </thead>\n",
       "  <tbody>\n",
       "    <tr>\n",
       "      <th>Sam</th>\n",
       "      <td>Radio Operator</td>\n",
       "      <td>Curly Wurlies</td>\n",
       "    </tr>\n",
       "    <tr>\n",
       "      <th>Janine</th>\n",
       "      <td>Director</td>\n",
       "      <td>Potatoes</td>\n",
       "    </tr>\n",
       "    <tr>\n",
       "      <th>Dr Myers</th>\n",
       "      <td>Doctor</td>\n",
       "      <td>Apples</td>\n",
       "    </tr>\n",
       "  </tbody>\n",
       "</table>\n",
       "</div>"
      ],
      "text/plain": [
       "                     Job       Fav Food\n",
       "Sam       Radio Operator  Curly Wurlies\n",
       "Janine          Director       Potatoes\n",
       "Dr Myers          Doctor         Apples"
      ]
     },
     "execution_count": 181,
     "metadata": {},
     "output_type": "execute_result"
    }
   ],
   "source": [
    "abel_personel = {\"Job\":{\"Sam\":\"Radio Operator\",\"Janine\":\"Director\",\"Dr Myers\":\"Doctor\"},\n",
    "                 \"Fav Food\":{\"Sam\":\"Curly Wurlies\",\"Janine\":\"Potatoes\",\"Dr Myers\":\"Apples\"}}\n",
    "\n",
    "abel_frame = pd.DataFrame(abel_personel)\n",
    "abel_frame"
   ]
  },
  {
   "cell_type": "markdown",
   "id": "073cbbe0-8f93-4eac-a686-fe98f8905a27",
   "metadata": {},
   "source": [
    "Reorganize the rows:"
   ]
  },
  {
   "cell_type": "code",
   "execution_count": 182,
   "id": "cb4f3055-9a6f-47bc-97ff-0b396af677f3",
   "metadata": {},
   "outputs": [
    {
     "data": {
      "text/html": [
       "<div>\n",
       "<style scoped>\n",
       "    .dataframe tbody tr th:only-of-type {\n",
       "        vertical-align: middle;\n",
       "    }\n",
       "\n",
       "    .dataframe tbody tr th {\n",
       "        vertical-align: top;\n",
       "    }\n",
       "\n",
       "    .dataframe thead th {\n",
       "        text-align: right;\n",
       "    }\n",
       "</style>\n",
       "<table border=\"1\" class=\"dataframe\">\n",
       "  <thead>\n",
       "    <tr style=\"text-align: right;\">\n",
       "      <th></th>\n",
       "      <th>Job</th>\n",
       "      <th>Fav Food</th>\n",
       "    </tr>\n",
       "  </thead>\n",
       "  <tbody>\n",
       "    <tr>\n",
       "      <th>Janine</th>\n",
       "      <td>Director</td>\n",
       "      <td>Potatoes</td>\n",
       "    </tr>\n",
       "    <tr>\n",
       "      <th>Dr Myers</th>\n",
       "      <td>Doctor</td>\n",
       "      <td>Apples</td>\n",
       "    </tr>\n",
       "    <tr>\n",
       "      <th>Sam</th>\n",
       "      <td>Radio Operator</td>\n",
       "      <td>Curly Wurlies</td>\n",
       "    </tr>\n",
       "  </tbody>\n",
       "</table>\n",
       "</div>"
      ],
      "text/plain": [
       "                     Job       Fav Food\n",
       "Janine          Director       Potatoes\n",
       "Dr Myers          Doctor         Apples\n",
       "Sam       Radio Operator  Curly Wurlies"
      ]
     },
     "execution_count": 182,
     "metadata": {},
     "output_type": "execute_result"
    }
   ],
   "source": [
    "abp2=abel_frame.reindex([\"Janine\",\"Dr Myers\",\"Sam\"])\n",
    "abp2"
   ]
  },
  {
   "cell_type": "markdown",
   "id": "b5cd8055-59fb-4b73-ba17-fe463f028f64",
   "metadata": {},
   "source": [
    "<h1>Essential Functionality INTEROPLATION</h1>"
   ]
  },
  {
   "cell_type": "markdown",
   "id": "011b4f6d-a2b1-45e6-a450-91c0c9215279",
   "metadata": {},
   "source": [
    "Interoplation: You can fill in info that is missing from original sources:"
   ]
  },
  {
   "cell_type": "code",
   "execution_count": 183,
   "id": "9957b752-fd3d-41aa-aedb-5f512285ecca",
   "metadata": {},
   "outputs": [
    {
     "data": {
      "text/plain": [
       "0              Portal\n",
       "3            BioShock\n",
       "5    Cult of the Lamb\n",
       "dtype: object"
      ]
     },
     "execution_count": 183,
     "metadata": {},
     "output_type": "execute_result"
    }
   ],
   "source": [
    "fgames=pd.Series([\"Portal\",\"BioShock\",\"Cult of the Lamb\"], index=[0,3,5])\n",
    "fgames"
   ]
  },
  {
   "cell_type": "markdown",
   "id": "3151219e-e43d-4e59-88c4-248a6b8f5b56",
   "metadata": {},
   "source": [
    "<h2>.arange and ffill Method</h2>\n",
    "To stretch a table, use arrange to add cells with null cells. ffill will copy into the nulls the last listed value."
   ]
  },
  {
   "cell_type": "code",
   "execution_count": 184,
   "id": "b4962719-bee8-4d24-9fdc-06cff9e43a1a",
   "metadata": {},
   "outputs": [
    {
     "data": {
      "text/plain": [
       "0              Portal\n",
       "1              Portal\n",
       "2              Portal\n",
       "3            BioShock\n",
       "4            BioShock\n",
       "5    Cult of the Lamb\n",
       "dtype: object"
      ]
     },
     "execution_count": 184,
     "metadata": {},
     "output_type": "execute_result"
    }
   ],
   "source": [
    "fgames.reindex(np.arange(6),method=\"ffill\")\n",
    "##This males a new one, not replace the old one."
   ]
  },
  {
   "cell_type": "markdown",
   "id": "d477d897-5b70-4a4d-975c-58c8ff6408c3",
   "metadata": {},
   "source": [
    "<h2>.reshape(())</h2>\n",
    ".reshape( (tuple) ) specifies how many columns and rows need to be there. "
   ]
  },
  {
   "cell_type": "code",
   "execution_count": 185,
   "id": "e219150b-1377-460e-b2d7-685eeec10e95",
   "metadata": {},
   "outputs": [
    {
     "data": {
      "text/html": [
       "<div>\n",
       "<style scoped>\n",
       "    .dataframe tbody tr th:only-of-type {\n",
       "        vertical-align: middle;\n",
       "    }\n",
       "\n",
       "    .dataframe tbody tr th {\n",
       "        vertical-align: top;\n",
       "    }\n",
       "\n",
       "    .dataframe thead th {\n",
       "        text-align: right;\n",
       "    }\n",
       "</style>\n",
       "<table border=\"1\" class=\"dataframe\">\n",
       "  <thead>\n",
       "    <tr style=\"text-align: right;\">\n",
       "      <th></th>\n",
       "      <th>Games Won</th>\n",
       "      <th>Games Lost</th>\n",
       "      <th>Games Tied</th>\n",
       "    </tr>\n",
       "  </thead>\n",
       "  <tbody>\n",
       "    <tr>\n",
       "      <th>Sam</th>\n",
       "      <td>0</td>\n",
       "      <td>1</td>\n",
       "      <td>2</td>\n",
       "    </tr>\n",
       "    <tr>\n",
       "      <th>Janine</th>\n",
       "      <td>3</td>\n",
       "      <td>4</td>\n",
       "      <td>5</td>\n",
       "    </tr>\n",
       "    <tr>\n",
       "      <th>Maxine</th>\n",
       "      <td>6</td>\n",
       "      <td>7</td>\n",
       "      <td>8</td>\n",
       "    </tr>\n",
       "  </tbody>\n",
       "</table>\n",
       "</div>"
      ],
      "text/plain": [
       "        Games Won  Games Lost  Games Tied\n",
       "Sam             0           1           2\n",
       "Janine          3           4           5\n",
       "Maxine          6           7           8"
      ]
     },
     "execution_count": 185,
     "metadata": {},
     "output_type": "execute_result"
    }
   ],
   "source": [
    "exex=pd.DataFrame(np.arange(9).reshape((3,3)),\n",
    "index=[\"Sam\",\"Janine\",\"Maxine\"],columns=[\"Games Won\",\"Games Lost\",\"Games Tied\"])\n",
    "exex"
   ]
  },
  {
   "cell_type": "markdown",
   "id": "375fcb01-7b03-42af-b743-74f2be0915a6",
   "metadata": {},
   "source": [
    "<h2>.reindex(index=[\"rows\"])</h2>\n",
    "index lables the rows, columns labels the cols. The cells are filled with numbers by the arrange method."
   ]
  },
  {
   "cell_type": "code",
   "execution_count": 186,
   "id": "825b843c-0679-436f-a61d-c4050424d0b0",
   "metadata": {},
   "outputs": [
    {
     "data": {
      "text/html": [
       "<div>\n",
       "<style scoped>\n",
       "    .dataframe tbody tr th:only-of-type {\n",
       "        vertical-align: middle;\n",
       "    }\n",
       "\n",
       "    .dataframe tbody tr th {\n",
       "        vertical-align: top;\n",
       "    }\n",
       "\n",
       "    .dataframe thead th {\n",
       "        text-align: right;\n",
       "    }\n",
       "</style>\n",
       "<table border=\"1\" class=\"dataframe\">\n",
       "  <thead>\n",
       "    <tr style=\"text-align: right;\">\n",
       "      <th></th>\n",
       "      <th>Games Won</th>\n",
       "      <th>Games Lost</th>\n",
       "      <th>Games Tied</th>\n",
       "    </tr>\n",
       "  </thead>\n",
       "  <tbody>\n",
       "    <tr>\n",
       "      <th>Sam</th>\n",
       "      <td>0.0</td>\n",
       "      <td>1.0</td>\n",
       "      <td>2.0</td>\n",
       "    </tr>\n",
       "    <tr>\n",
       "      <th>Jodie</th>\n",
       "      <td>NaN</td>\n",
       "      <td>NaN</td>\n",
       "      <td>NaN</td>\n",
       "    </tr>\n",
       "    <tr>\n",
       "      <th>Janine</th>\n",
       "      <td>3.0</td>\n",
       "      <td>4.0</td>\n",
       "      <td>5.0</td>\n",
       "    </tr>\n",
       "    <tr>\n",
       "      <th>maxine</th>\n",
       "      <td>NaN</td>\n",
       "      <td>NaN</td>\n",
       "      <td>NaN</td>\n",
       "    </tr>\n",
       "    <tr>\n",
       "      <th>Five</th>\n",
       "      <td>NaN</td>\n",
       "      <td>NaN</td>\n",
       "      <td>NaN</td>\n",
       "    </tr>\n",
       "  </tbody>\n",
       "</table>\n",
       "</div>"
      ],
      "text/plain": [
       "        Games Won  Games Lost  Games Tied\n",
       "Sam           0.0         1.0         2.0\n",
       "Jodie         NaN         NaN         NaN\n",
       "Janine        3.0         4.0         5.0\n",
       "maxine        NaN         NaN         NaN\n",
       "Five          NaN         NaN         NaN"
      ]
     },
     "execution_count": 186,
     "metadata": {},
     "output_type": "execute_result"
    }
   ],
   "source": [
    "atgn=exex.reindex(index=[\"Sam\",\"Jodie\",\"Janine\",\"maxine\",\"Five\"])\n",
    "atgn"
   ]
  },
  {
   "cell_type": "markdown",
   "id": "c5c82e4f-1ec0-45a1-8294-0c18473b69ff",
   "metadata": {},
   "source": [
    "If you add rows with reindex, they will be filled with nas. This DOES NOT alter the original table and needsto be dumped in a var."
   ]
  },
  {
   "cell_type": "code",
   "execution_count": 187,
   "id": "cfdcc848-9594-4e2e-9b76-1bdc82c44e81",
   "metadata": {},
   "outputs": [
    {
     "data": {
      "text/html": [
       "<div>\n",
       "<style scoped>\n",
       "    .dataframe tbody tr th:only-of-type {\n",
       "        vertical-align: middle;\n",
       "    }\n",
       "\n",
       "    .dataframe tbody tr th {\n",
       "        vertical-align: top;\n",
       "    }\n",
       "\n",
       "    .dataframe thead th {\n",
       "        text-align: right;\n",
       "    }\n",
       "</style>\n",
       "<table border=\"1\" class=\"dataframe\">\n",
       "  <thead>\n",
       "    <tr style=\"text-align: right;\">\n",
       "      <th></th>\n",
       "      <th>Games Won</th>\n",
       "      <th>Games Lost</th>\n",
       "      <th>Games Tied</th>\n",
       "      <th>Games Missed</th>\n",
       "    </tr>\n",
       "  </thead>\n",
       "  <tbody>\n",
       "    <tr>\n",
       "      <th>Sam</th>\n",
       "      <td>0.0</td>\n",
       "      <td>1.0</td>\n",
       "      <td>2.0</td>\n",
       "      <td>NaN</td>\n",
       "    </tr>\n",
       "    <tr>\n",
       "      <th>Jodie</th>\n",
       "      <td>NaN</td>\n",
       "      <td>NaN</td>\n",
       "      <td>NaN</td>\n",
       "      <td>NaN</td>\n",
       "    </tr>\n",
       "    <tr>\n",
       "      <th>Janine</th>\n",
       "      <td>3.0</td>\n",
       "      <td>4.0</td>\n",
       "      <td>5.0</td>\n",
       "      <td>NaN</td>\n",
       "    </tr>\n",
       "    <tr>\n",
       "      <th>maxine</th>\n",
       "      <td>NaN</td>\n",
       "      <td>NaN</td>\n",
       "      <td>NaN</td>\n",
       "      <td>NaN</td>\n",
       "    </tr>\n",
       "    <tr>\n",
       "      <th>Five</th>\n",
       "      <td>NaN</td>\n",
       "      <td>NaN</td>\n",
       "      <td>NaN</td>\n",
       "      <td>NaN</td>\n",
       "    </tr>\n",
       "  </tbody>\n",
       "</table>\n",
       "</div>"
      ],
      "text/plain": [
       "        Games Won  Games Lost  Games Tied  Games Missed\n",
       "Sam           0.0         1.0         2.0           NaN\n",
       "Jodie         NaN         NaN         NaN           NaN\n",
       "Janine        3.0         4.0         5.0           NaN\n",
       "maxine        NaN         NaN         NaN           NaN\n",
       "Five          NaN         NaN         NaN           NaN"
      ]
     },
     "execution_count": 187,
     "metadata": {},
     "output_type": "execute_result"
    }
   ],
   "source": [
    "gncols=[\"Games Won\",\"Games Lost\",\"Games Tied\",\"Games Missed\"]\n",
    "atgn2=atgn.reindex(columns=gncols)\n",
    "atgn2"
   ]
  },
  {
   "cell_type": "markdown",
   "id": "c1560dd2-f231-4f8f-aeb0-165dd7c31dc6",
   "metadata": {},
   "source": [
    "## drop(\"\")\n",
    "You can drop an index and return a new table."
   ]
  },
  {
   "cell_type": "code",
   "execution_count": 188,
   "id": "83e379bd-6f48-4131-9a29-457b5d610ff9",
   "metadata": {},
   "outputs": [
    {
     "data": {
      "text/html": [
       "<div>\n",
       "<style scoped>\n",
       "    .dataframe tbody tr th:only-of-type {\n",
       "        vertical-align: middle;\n",
       "    }\n",
       "\n",
       "    .dataframe tbody tr th {\n",
       "        vertical-align: top;\n",
       "    }\n",
       "\n",
       "    .dataframe thead th {\n",
       "        text-align: right;\n",
       "    }\n",
       "</style>\n",
       "<table border=\"1\" class=\"dataframe\">\n",
       "  <thead>\n",
       "    <tr style=\"text-align: right;\">\n",
       "      <th></th>\n",
       "      <th>Games Won</th>\n",
       "      <th>Games Lost</th>\n",
       "      <th>Games Tied</th>\n",
       "      <th>Games Missed</th>\n",
       "    </tr>\n",
       "  </thead>\n",
       "  <tbody>\n",
       "    <tr>\n",
       "      <th>Sam</th>\n",
       "      <td>0.0</td>\n",
       "      <td>1.0</td>\n",
       "      <td>2.0</td>\n",
       "      <td>NaN</td>\n",
       "    </tr>\n",
       "    <tr>\n",
       "      <th>Jodie</th>\n",
       "      <td>NaN</td>\n",
       "      <td>NaN</td>\n",
       "      <td>NaN</td>\n",
       "      <td>NaN</td>\n",
       "    </tr>\n",
       "    <tr>\n",
       "      <th>Janine</th>\n",
       "      <td>3.0</td>\n",
       "      <td>4.0</td>\n",
       "      <td>5.0</td>\n",
       "      <td>NaN</td>\n",
       "    </tr>\n",
       "    <tr>\n",
       "      <th>maxine</th>\n",
       "      <td>NaN</td>\n",
       "      <td>NaN</td>\n",
       "      <td>NaN</td>\n",
       "      <td>NaN</td>\n",
       "    </tr>\n",
       "  </tbody>\n",
       "</table>\n",
       "</div>"
      ],
      "text/plain": [
       "        Games Won  Games Lost  Games Tied  Games Missed\n",
       "Sam           0.0         1.0         2.0           NaN\n",
       "Jodie         NaN         NaN         NaN           NaN\n",
       "Janine        3.0         4.0         5.0           NaN\n",
       "maxine        NaN         NaN         NaN           NaN"
      ]
     },
     "execution_count": 188,
     "metadata": {},
     "output_type": "execute_result"
    }
   ],
   "source": [
    "atgn3=atgn2.drop(\"Five\")\n",
    "atgn3"
   ]
  },
  {
   "cell_type": "code",
   "execution_count": null,
   "id": "b1360c93-cb27-4c15-8d14-3aca6c3f746e",
   "metadata": {},
   "outputs": [],
   "source": []
  }
 ],
 "metadata": {
  "kernelspec": {
   "display_name": "Python 3 (ipykernel)",
   "language": "python",
   "name": "python3"
  },
  "language_info": {
   "codemirror_mode": {
    "name": "ipython",
    "version": 3
   },
   "file_extension": ".py",
   "mimetype": "text/x-python",
   "name": "python",
   "nbconvert_exporter": "python",
   "pygments_lexer": "ipython3",
   "version": "3.12.5"
  }
 },
 "nbformat": 4,
 "nbformat_minor": 5
}
