{
 "cells": [
  {
   "cell_type": "code",
   "execution_count": 314,
   "id": "0c904fb8-cb73-459f-9a1f-314b5503f4de",
   "metadata": {},
   "outputs": [],
   "source": [
    "import pandas as pd\n",
    "import numpy as np\n",
    "from pandas import Series, DataFrame\n"
   ]
  },
  {
   "cell_type": "markdown",
   "id": "cc88105b-5aa2-481c-9b6b-671c7adb5aa9",
   "metadata": {},
   "source": [
    "<b><h1>Series   5.1 SERIES</h1></b>\n",
    "A series is a dict with one key and a number of values. When you use pd to display a series, it will list the values by index. "
   ]
  },
  {
   "cell_type": "code",
   "execution_count": 315,
   "id": "f9279337-ed53-4043-a14d-9c3168b7d85b",
   "metadata": {},
   "outputs": [
    {
     "data": {
      "text/plain": [
       "0     0\n",
       "1     2\n",
       "2     5\n",
       "3     9\n",
       "4    10\n",
       "dtype: int64"
      ]
     },
     "execution_count": 315,
     "metadata": {},
     "output_type": "execute_result"
    }
   ],
   "source": [
    "obj = pd.Series([0,2,5,9,10])\n",
    "obj"
   ]
  },
  {
   "cell_type": "markdown",
   "id": "3fcf4525-8e54-49c1-add5-892276aca2dc",
   "metadata": {},
   "source": [
    "You can <h2>name the index</h2> in order to label your rows. Make sure each part is in a list [ ]."
   ]
  },
  {
   "cell_type": "code",
   "execution_count": 316,
   "id": "a509098f-79b6-4ec5-b211-72c5ae518cd0",
   "metadata": {},
   "outputs": [
    {
     "data": {
      "text/plain": [
       "cats       4\n",
       "birds      3\n",
       "dogs       2\n",
       "spiders    9\n",
       "dtype: int64"
      ]
     },
     "execution_count": 316,
     "metadata": {},
     "output_type": "execute_result"
    }
   ],
   "source": [
    "obj2 = pd.Series([4,3,2,9], index=[\"cats\",\"birds\",\"dogs\",\"spiders\"])\n",
    "obj2"
   ]
  },
  {
   "cell_type": "markdown",
   "id": "0c9653eb-ade5-42fc-8b8f-9d43e89c40a8",
   "metadata": {},
   "source": [
    "<h2>Call cells</h2>\n",
    "You can then call cells via their index lables"
   ]
  },
  {
   "cell_type": "code",
   "execution_count": 317,
   "id": "f4e2e208-e428-43da-a56b-6a9b6ddfe07f",
   "metadata": {},
   "outputs": [
    {
     "name": "stdout",
     "output_type": "stream",
     "text": [
      "There are 4 cats.\n",
      "We have 2 dogs, and 9 spiders.\n"
     ]
    }
   ],
   "source": [
    "print(f\"There are {obj2[\"cats\"]} cats.\")\n",
    "print(f\"We have {obj2[\"dogs\"]} dogs, and {obj2[\"spiders\"]} spiders.\")"
   ]
  },
  {
   "cell_type": "markdown",
   "id": "8853c9d7-4d4f-4842-be50-bbffd6e6926f",
   "metadata": {},
   "source": [
    "You can use math and conditionals as well."
   ]
  },
  {
   "cell_type": "code",
   "execution_count": 318,
   "id": "423be777-21a8-4eda-9c91-e7dab2e5bb71",
   "metadata": {},
   "outputs": [
    {
     "data": {
      "text/plain": [
       "cats       4\n",
       "spiders    9\n",
       "dtype: int64"
      ]
     },
     "execution_count": 318,
     "metadata": {},
     "output_type": "execute_result"
    }
   ],
   "source": [
    "obj2[obj2>3]"
   ]
  },
  {
   "cell_type": "code",
   "execution_count": 319,
   "id": "b7f7d23e-1603-4cd5-837b-6e951ee4b7f0",
   "metadata": {},
   "outputs": [
    {
     "data": {
      "text/plain": [
       "False"
      ]
     },
     "execution_count": 319,
     "metadata": {},
     "output_type": "execute_result"
    }
   ],
   "source": [
    "\"fish\" in obj2"
   ]
  },
  {
   "cell_type": "code",
   "execution_count": 320,
   "id": "95dca3b3-08ce-499c-93fd-d76f35eb8658",
   "metadata": {},
   "outputs": [
    {
     "data": {
      "text/plain": [
       "np.False_"
      ]
     },
     "execution_count": 320,
     "metadata": {},
     "output_type": "execute_result"
    }
   ],
   "source": [
    "obj2[\"cats\"]==9"
   ]
  },
  {
   "cell_type": "markdown",
   "id": "d5a64c79-c7f2-49fe-a032-4ab014d4ddcd",
   "metadata": {},
   "source": [
    "You can pass in dicts."
   ]
  },
  {
   "cell_type": "code",
   "execution_count": 321,
   "id": "444f75d4-4bd6-4f51-b5c8-291d04ae1fec",
   "metadata": {},
   "outputs": [
    {
     "data": {
      "text/plain": [
       "red       2\n",
       "blue      5\n",
       "orange    1\n",
       "dtype: int64"
      ]
     },
     "execution_count": 321,
     "metadata": {},
     "output_type": "execute_result"
    }
   ],
   "source": [
    "yarns={\"red\":2,\"blue\":5,\"orange\":1}\n",
    "obj3 = pd.Series(yarns)\n",
    "obj3"
   ]
  },
  {
   "cell_type": "markdown",
   "id": "fee878c5-f3e5-400d-8263-a1e7f3c4604c",
   "metadata": {},
   "source": [
    "<h2>.to_</h2>\n",
    "This allows you to rewrite series and DFs into CSVs, SQLS, dicts, or JSON."
   ]
  },
  {
   "cell_type": "code",
   "execution_count": 322,
   "id": "52faaaa4-b725-4a34-a881-3bdcfc21ccdd",
   "metadata": {},
   "outputs": [
    {
     "data": {
      "text/plain": [
       "{'red': 2, 'blue': 5, 'orange': 1}"
      ]
     },
     "execution_count": 322,
     "metadata": {},
     "output_type": "execute_result"
    }
   ],
   "source": [
    "obj3.to_dict()"
   ]
  },
  {
   "cell_type": "markdown",
   "id": "e87df795-373d-43f8-b7f5-69cb979f0f83",
   "metadata": {},
   "source": [
    "You can add tables together."
   ]
  },
  {
   "cell_type": "code",
   "execution_count": 323,
   "id": "1b36be45-adc0-420d-972e-4bc4125162be",
   "metadata": {},
   "outputs": [
    {
     "data": {
      "text/plain": [
       "birds     NaN\n",
       "blue      NaN\n",
       "cats      NaN\n",
       "dogs      NaN\n",
       "orange    NaN\n",
       "red       NaN\n",
       "spiders   NaN\n",
       "dtype: float64"
      ]
     },
     "execution_count": 323,
     "metadata": {},
     "output_type": "execute_result"
    }
   ],
   "source": [
    "obj2+obj3"
   ]
  },
  {
   "cell_type": "markdown",
   "id": "eac8f84f-9972-42b8-bb7c-ef516ab7d7aa",
   "metadata": {},
   "source": [
    "<h2>.name=</h2>\n",
    "You can give a label to your index with .name"
   ]
  },
  {
   "cell_type": "code",
   "execution_count": 324,
   "id": "7e7e5953-ab79-49c5-93a3-1d4ba6e6feb1",
   "metadata": {},
   "outputs": [
    {
     "data": {
      "text/plain": [
       "Colors\n",
       "red       2\n",
       "blue      5\n",
       "orange    1\n",
       "Name: Yarn Inventory, dtype: int64"
      ]
     },
     "execution_count": 324,
     "metadata": {},
     "output_type": "execute_result"
    }
   ],
   "source": [
    "obj3.index.name=\"Colors\"\n",
    "obj3.name=\"Yarn Inventory\"\n",
    "obj3"
   ]
  },
  {
   "cell_type": "markdown",
   "id": "dcb17cc2-bc74-46b7-ad36-6235de182a4e",
   "metadata": {},
   "source": [
    "<b><h1>DataFrame    5.1 DATAFRAME</h1></b>\n",
    "DataFrames are two series placed together. They can be made from dicts of equal lengths, csvs, jsons, and sqls."
   ]
  },
  {
   "cell_type": "code",
   "execution_count": 325,
   "id": "01621af4-33d0-4866-a384-cd2fe1d36635",
   "metadata": {},
   "outputs": [
    {
     "data": {
      "text/html": [
       "<div>\n",
       "<style scoped>\n",
       "    .dataframe tbody tr th:only-of-type {\n",
       "        vertical-align: middle;\n",
       "    }\n",
       "\n",
       "    .dataframe tbody tr th {\n",
       "        vertical-align: top;\n",
       "    }\n",
       "\n",
       "    .dataframe thead th {\n",
       "        text-align: right;\n",
       "    }\n",
       "</style>\n",
       "<table border=\"1\" class=\"dataframe\">\n",
       "  <thead>\n",
       "    <tr style=\"text-align: right;\">\n",
       "      <th></th>\n",
       "      <th>Magic</th>\n",
       "      <th>Mane Color</th>\n",
       "      <th>Age</th>\n",
       "    </tr>\n",
       "  </thead>\n",
       "  <tbody>\n",
       "    <tr>\n",
       "      <th>0</th>\n",
       "      <td>Glitter Bomb</td>\n",
       "      <td>Pink</td>\n",
       "      <td>209</td>\n",
       "    </tr>\n",
       "    <tr>\n",
       "      <th>1</th>\n",
       "      <td>Icey Beam</td>\n",
       "      <td>White</td>\n",
       "      <td>3094</td>\n",
       "    </tr>\n",
       "    <tr>\n",
       "      <th>2</th>\n",
       "      <td>Petal Flurry</td>\n",
       "      <td>Red</td>\n",
       "      <td>200</td>\n",
       "    </tr>\n",
       "    <tr>\n",
       "      <th>3</th>\n",
       "      <td>Sugar Crash</td>\n",
       "      <td>Green</td>\n",
       "      <td>35</td>\n",
       "    </tr>\n",
       "  </tbody>\n",
       "</table>\n",
       "</div>"
      ],
      "text/plain": [
       "          Magic Mane Color   Age\n",
       "0  Glitter Bomb       Pink   209\n",
       "1     Icey Beam      White  3094\n",
       "2  Petal Flurry        Red   200\n",
       "3   Sugar Crash      Green    35"
      ]
     },
     "execution_count": 325,
     "metadata": {},
     "output_type": "execute_result"
    }
   ],
   "source": [
    "data = {\"Magic\":[\"Glitter Bomb\",\"Icey Beam\",\"Petal Flurry\",\"Sugar Crash\"],\"Mane Color\":[\"Pink\",\"White\",\"Red\",\"Green\"],\"Age\":[209,3094,200,35]}\n",
    "frame = pd.DataFrame(data)\n",
    "frame"
   ]
  },
  {
   "cell_type": "markdown",
   "id": "3f99d167-fcbb-446b-a246-530aa764089f",
   "metadata": {},
   "source": [
    "<h2>.head and .tail</h2> \n",
    "They will give the first or last 5 lines of a df. You can add a number to the () to give a specific amount of lines. You can also specify the order of cols."
   ]
  },
  {
   "cell_type": "code",
   "execution_count": 326,
   "id": "4f8cb85f-3ae5-4ccf-a506-5680225bad91",
   "metadata": {},
   "outputs": [
    {
     "data": {
      "text/html": [
       "<div>\n",
       "<style scoped>\n",
       "    .dataframe tbody tr th:only-of-type {\n",
       "        vertical-align: middle;\n",
       "    }\n",
       "\n",
       "    .dataframe tbody tr th {\n",
       "        vertical-align: top;\n",
       "    }\n",
       "\n",
       "    .dataframe thead th {\n",
       "        text-align: right;\n",
       "    }\n",
       "</style>\n",
       "<table border=\"1\" class=\"dataframe\">\n",
       "  <thead>\n",
       "    <tr style=\"text-align: right;\">\n",
       "      <th></th>\n",
       "      <th>Age</th>\n",
       "      <th>Mane Color</th>\n",
       "      <th>Magic</th>\n",
       "    </tr>\n",
       "  </thead>\n",
       "  <tbody>\n",
       "    <tr>\n",
       "      <th>0</th>\n",
       "      <td>209</td>\n",
       "      <td>Pink</td>\n",
       "      <td>Glitter Bomb</td>\n",
       "    </tr>\n",
       "    <tr>\n",
       "      <th>1</th>\n",
       "      <td>3094</td>\n",
       "      <td>White</td>\n",
       "      <td>Icey Beam</td>\n",
       "    </tr>\n",
       "    <tr>\n",
       "      <th>2</th>\n",
       "      <td>200</td>\n",
       "      <td>Red</td>\n",
       "      <td>Petal Flurry</td>\n",
       "    </tr>\n",
       "    <tr>\n",
       "      <th>3</th>\n",
       "      <td>35</td>\n",
       "      <td>Green</td>\n",
       "      <td>Sugar Crash</td>\n",
       "    </tr>\n",
       "  </tbody>\n",
       "</table>\n",
       "</div>"
      ],
      "text/plain": [
       "    Age Mane Color         Magic\n",
       "0   209       Pink  Glitter Bomb\n",
       "1  3094      White     Icey Beam\n",
       "2   200        Red  Petal Flurry\n",
       "3    35      Green   Sugar Crash"
      ]
     },
     "execution_count": 326,
     "metadata": {},
     "output_type": "execute_result"
    }
   ],
   "source": [
    "pd.DataFrame(data, columns=[\"Age\",\"Mane Color\",\"Magic\"])"
   ]
  },
  {
   "cell_type": "code",
   "execution_count": 327,
   "id": "15b21a02-f467-4c35-bb9a-889bad496659",
   "metadata": {},
   "outputs": [
    {
     "data": {
      "text/html": [
       "<div>\n",
       "<style scoped>\n",
       "    .dataframe tbody tr th:only-of-type {\n",
       "        vertical-align: middle;\n",
       "    }\n",
       "\n",
       "    .dataframe tbody tr th {\n",
       "        vertical-align: top;\n",
       "    }\n",
       "\n",
       "    .dataframe thead th {\n",
       "        text-align: right;\n",
       "    }\n",
       "</style>\n",
       "<table border=\"1\" class=\"dataframe\">\n",
       "  <thead>\n",
       "    <tr style=\"text-align: right;\">\n",
       "      <th></th>\n",
       "      <th>Magic</th>\n",
       "      <th>Mane Color</th>\n",
       "      <th>Age</th>\n",
       "    </tr>\n",
       "  </thead>\n",
       "  <tbody>\n",
       "    <tr>\n",
       "      <th>Sparkles</th>\n",
       "      <td>Glitter Bomb</td>\n",
       "      <td>Pink</td>\n",
       "      <td>209</td>\n",
       "    </tr>\n",
       "    <tr>\n",
       "      <th>Moonbeam</th>\n",
       "      <td>Icey Beam</td>\n",
       "      <td>White</td>\n",
       "      <td>3094</td>\n",
       "    </tr>\n",
       "    <tr>\n",
       "      <th>Rosey</th>\n",
       "      <td>Petal Flurry</td>\n",
       "      <td>Red</td>\n",
       "      <td>200</td>\n",
       "    </tr>\n",
       "    <tr>\n",
       "      <th>Sprinkles</th>\n",
       "      <td>Sugar Crash</td>\n",
       "      <td>Green</td>\n",
       "      <td>35</td>\n",
       "    </tr>\n",
       "  </tbody>\n",
       "</table>\n",
       "</div>"
      ],
      "text/plain": [
       "                  Magic Mane Color   Age\n",
       "Sparkles   Glitter Bomb       Pink   209\n",
       "Moonbeam      Icey Beam      White  3094\n",
       "Rosey      Petal Flurry        Red   200\n",
       "Sprinkles   Sugar Crash      Green    35"
      ]
     },
     "execution_count": 327,
     "metadata": {},
     "output_type": "execute_result"
    }
   ],
   "source": [
    "frame.index=[\"Sparkles\",\"Moonbeam\",\"Rosey\",\"Sprinkles\"]\n",
    "frame\n",
    "# Name the indexes"
   ]
  },
  {
   "cell_type": "markdown",
   "id": "5dafcd7c-2afe-4d84-8106-d2862baf3d72",
   "metadata": {},
   "source": [
    "<h2>loc[]/iloc[]</h2>\n",
    "You can call a col by [\"col name\"] and a row with loc and iloc for the row index. You can print ranges of rows by adding indexs to iloc. Caps matter!"
   ]
  },
  {
   "cell_type": "code",
   "execution_count": 328,
   "id": "a51d4928-c25c-4259-98f8-02c5e93ffd55",
   "metadata": {},
   "outputs": [
    {
     "data": {
      "text/html": [
       "<div>\n",
       "<style scoped>\n",
       "    .dataframe tbody tr th:only-of-type {\n",
       "        vertical-align: middle;\n",
       "    }\n",
       "\n",
       "    .dataframe tbody tr th {\n",
       "        vertical-align: top;\n",
       "    }\n",
       "\n",
       "    .dataframe thead th {\n",
       "        text-align: right;\n",
       "    }\n",
       "</style>\n",
       "<table border=\"1\" class=\"dataframe\">\n",
       "  <thead>\n",
       "    <tr style=\"text-align: right;\">\n",
       "      <th></th>\n",
       "      <th>Magic</th>\n",
       "      <th>Mane Color</th>\n",
       "      <th>Age</th>\n",
       "    </tr>\n",
       "  </thead>\n",
       "  <tbody>\n",
       "    <tr>\n",
       "      <th>Sparkles</th>\n",
       "      <td>Glitter Bomb</td>\n",
       "      <td>Pink</td>\n",
       "      <td>209</td>\n",
       "    </tr>\n",
       "    <tr>\n",
       "      <th>Moonbeam</th>\n",
       "      <td>Icey Beam</td>\n",
       "      <td>White</td>\n",
       "      <td>3094</td>\n",
       "    </tr>\n",
       "    <tr>\n",
       "      <th>Rosey</th>\n",
       "      <td>Petal Flurry</td>\n",
       "      <td>Red</td>\n",
       "      <td>200</td>\n",
       "    </tr>\n",
       "    <tr>\n",
       "      <th>Sprinkles</th>\n",
       "      <td>Sugar Crash</td>\n",
       "      <td>Green</td>\n",
       "      <td>35</td>\n",
       "    </tr>\n",
       "  </tbody>\n",
       "</table>\n",
       "</div>"
      ],
      "text/plain": [
       "                  Magic Mane Color   Age\n",
       "Sparkles   Glitter Bomb       Pink   209\n",
       "Moonbeam      Icey Beam      White  3094\n",
       "Rosey      Petal Flurry        Red   200\n",
       "Sprinkles   Sugar Crash      Green    35"
      ]
     },
     "execution_count": 328,
     "metadata": {},
     "output_type": "execute_result"
    }
   ],
   "source": [
    "frame"
   ]
  },
  {
   "cell_type": "code",
   "execution_count": 329,
   "id": "a067a8e3-6c63-4792-a68f-429d157d2b8f",
   "metadata": {},
   "outputs": [
    {
     "data": {
      "text/plain": [
       "Sparkles      209\n",
       "Moonbeam     3094\n",
       "Rosey         200\n",
       "Sprinkles      35\n",
       "Name: Age, dtype: int64"
      ]
     },
     "execution_count": 329,
     "metadata": {},
     "output_type": "execute_result"
    }
   ],
   "source": [
    "frame[\"Age\"]"
   ]
  },
  {
   "cell_type": "code",
   "execution_count": 330,
   "id": "538d4c17-7e78-47c9-a3ad-8a5c85f96281",
   "metadata": {},
   "outputs": [
    {
     "data": {
      "text/plain": [
       "Magic         Icey Beam\n",
       "Mane Color        White\n",
       "Age                3094\n",
       "Name: Moonbeam, dtype: object"
      ]
     },
     "execution_count": 330,
     "metadata": {},
     "output_type": "execute_result"
    }
   ],
   "source": [
    "frame.loc[\"Moonbeam\"]"
   ]
  },
  {
   "cell_type": "code",
   "execution_count": 331,
   "id": "1904227c-f8e5-41b6-a027-9838eb8bf68c",
   "metadata": {},
   "outputs": [
    {
     "data": {
      "text/html": [
       "<div>\n",
       "<style scoped>\n",
       "    .dataframe tbody tr th:only-of-type {\n",
       "        vertical-align: middle;\n",
       "    }\n",
       "\n",
       "    .dataframe tbody tr th {\n",
       "        vertical-align: top;\n",
       "    }\n",
       "\n",
       "    .dataframe thead th {\n",
       "        text-align: right;\n",
       "    }\n",
       "</style>\n",
       "<table border=\"1\" class=\"dataframe\">\n",
       "  <thead>\n",
       "    <tr style=\"text-align: right;\">\n",
       "      <th></th>\n",
       "      <th>Magic</th>\n",
       "      <th>Mane Color</th>\n",
       "      <th>Age</th>\n",
       "    </tr>\n",
       "  </thead>\n",
       "  <tbody>\n",
       "    <tr>\n",
       "      <th>Rosey</th>\n",
       "      <td>Petal Flurry</td>\n",
       "      <td>Red</td>\n",
       "      <td>200</td>\n",
       "    </tr>\n",
       "    <tr>\n",
       "      <th>Sprinkles</th>\n",
       "      <td>Sugar Crash</td>\n",
       "      <td>Green</td>\n",
       "      <td>35</td>\n",
       "    </tr>\n",
       "  </tbody>\n",
       "</table>\n",
       "</div>"
      ],
      "text/plain": [
       "                  Magic Mane Color  Age\n",
       "Rosey      Petal Flurry        Red  200\n",
       "Sprinkles   Sugar Crash      Green   35"
      ]
     },
     "execution_count": 331,
     "metadata": {},
     "output_type": "execute_result"
    }
   ],
   "source": [
    "frame.iloc[2:]"
   ]
  },
  {
   "cell_type": "markdown",
   "id": "1322e135-7290-4f6f-a0e4-aad2becfd271",
   "metadata": {},
   "source": [
    "### (5.2) loc and iloc can reutrn a new df by listing more than one thing in the index."
   ]
  },
  {
   "cell_type": "code",
   "execution_count": 332,
   "id": "6d9fb2da-2a6a-4c62-8058-a0da334a887f",
   "metadata": {},
   "outputs": [
    {
     "data": {
      "text/html": [
       "<div>\n",
       "<style scoped>\n",
       "    .dataframe tbody tr th:only-of-type {\n",
       "        vertical-align: middle;\n",
       "    }\n",
       "\n",
       "    .dataframe tbody tr th {\n",
       "        vertical-align: top;\n",
       "    }\n",
       "\n",
       "    .dataframe thead th {\n",
       "        text-align: right;\n",
       "    }\n",
       "</style>\n",
       "<table border=\"1\" class=\"dataframe\">\n",
       "  <thead>\n",
       "    <tr style=\"text-align: right;\">\n",
       "      <th></th>\n",
       "      <th>Magic</th>\n",
       "      <th>Mane Color</th>\n",
       "      <th>Age</th>\n",
       "    </tr>\n",
       "  </thead>\n",
       "  <tbody>\n",
       "    <tr>\n",
       "      <th>Sparkles</th>\n",
       "      <td>Glitter Bomb</td>\n",
       "      <td>Pink</td>\n",
       "      <td>209</td>\n",
       "    </tr>\n",
       "    <tr>\n",
       "      <th>Moonbeam</th>\n",
       "      <td>Icey Beam</td>\n",
       "      <td>White</td>\n",
       "      <td>3094</td>\n",
       "    </tr>\n",
       "    <tr>\n",
       "      <th>Rosey</th>\n",
       "      <td>Petal Flurry</td>\n",
       "      <td>Red</td>\n",
       "      <td>200</td>\n",
       "    </tr>\n",
       "    <tr>\n",
       "      <th>Sprinkles</th>\n",
       "      <td>Sugar Crash</td>\n",
       "      <td>Green</td>\n",
       "      <td>35</td>\n",
       "    </tr>\n",
       "  </tbody>\n",
       "</table>\n",
       "</div>"
      ],
      "text/plain": [
       "                  Magic Mane Color   Age\n",
       "Sparkles   Glitter Bomb       Pink   209\n",
       "Moonbeam      Icey Beam      White  3094\n",
       "Rosey      Petal Flurry        Red   200\n",
       "Sprinkles   Sugar Crash      Green    35"
      ]
     },
     "execution_count": 332,
     "metadata": {},
     "output_type": "execute_result"
    }
   ],
   "source": [
    "frame"
   ]
  },
  {
   "cell_type": "code",
   "execution_count": 333,
   "id": "ba6b3db0-2058-47e8-b574-f33392b0d392",
   "metadata": {},
   "outputs": [
    {
     "data": {
      "text/plain": [
       "Age                    209\n",
       "Magic         Glitter Bomb\n",
       "Mane Color            Pink\n",
       "Name: Sparkles, dtype: object"
      ]
     },
     "execution_count": 333,
     "metadata": {},
     "output_type": "execute_result"
    }
   ],
   "source": [
    "#row 0 Sparkles, columns 2,0,1 listed\n",
    "weird = frame.iloc[0,[2,0,1]]\n",
    "weird"
   ]
  },
  {
   "cell_type": "markdown",
   "id": "de2532af-8752-48b3-876e-5a27285d63a5",
   "metadata": {},
   "source": [
    "You can use label names with .loc"
   ]
  },
  {
   "cell_type": "code",
   "execution_count": 334,
   "id": "4a4b91de-d7ef-4a03-8d75-1703e33cd401",
   "metadata": {},
   "outputs": [
    {
     "data": {
      "text/html": [
       "<div>\n",
       "<style scoped>\n",
       "    .dataframe tbody tr th:only-of-type {\n",
       "        vertical-align: middle;\n",
       "    }\n",
       "\n",
       "    .dataframe tbody tr th {\n",
       "        vertical-align: top;\n",
       "    }\n",
       "\n",
       "    .dataframe thead th {\n",
       "        text-align: right;\n",
       "    }\n",
       "</style>\n",
       "<table border=\"1\" class=\"dataframe\">\n",
       "  <thead>\n",
       "    <tr style=\"text-align: right;\">\n",
       "      <th></th>\n",
       "      <th>Magic</th>\n",
       "      <th>Mane Color</th>\n",
       "      <th>Age</th>\n",
       "    </tr>\n",
       "  </thead>\n",
       "  <tbody>\n",
       "    <tr>\n",
       "      <th>Sparkles</th>\n",
       "      <td>Glitter Bomb</td>\n",
       "      <td>Pink</td>\n",
       "      <td>209</td>\n",
       "    </tr>\n",
       "    <tr>\n",
       "      <th>Moonbeam</th>\n",
       "      <td>Icey Beam</td>\n",
       "      <td>White</td>\n",
       "      <td>3094</td>\n",
       "    </tr>\n",
       "    <tr>\n",
       "      <th>Rosey</th>\n",
       "      <td>Petal Flurry</td>\n",
       "      <td>Red</td>\n",
       "      <td>200</td>\n",
       "    </tr>\n",
       "    <tr>\n",
       "      <th>Sprinkles</th>\n",
       "      <td>Sugar Crash</td>\n",
       "      <td>Green</td>\n",
       "      <td>35</td>\n",
       "    </tr>\n",
       "  </tbody>\n",
       "</table>\n",
       "</div>"
      ],
      "text/plain": [
       "                  Magic Mane Color   Age\n",
       "Sparkles   Glitter Bomb       Pink   209\n",
       "Moonbeam      Icey Beam      White  3094\n",
       "Rosey      Petal Flurry        Red   200\n",
       "Sprinkles   Sugar Crash      Green    35"
      ]
     },
     "execution_count": 334,
     "metadata": {},
     "output_type": "execute_result"
    }
   ],
   "source": [
    "frame"
   ]
  },
  {
   "cell_type": "code",
   "execution_count": 335,
   "id": "935e955c-ac9b-46ff-a110-0a2750241433",
   "metadata": {},
   "outputs": [
    {
     "data": {
      "text/plain": [
       "Age           3094\n",
       "Magic    Icey Beam\n",
       "Name: Moonbeam, dtype: object"
      ]
     },
     "execution_count": 335,
     "metadata": {},
     "output_type": "execute_result"
    }
   ],
   "source": [
    "wut=frame.loc[\"Moonbeam\",[\"Age\",\"Magic\"]]\n",
    "wut"
   ]
  },
  {
   "cell_type": "code",
   "execution_count": 336,
   "id": "5aca87f4-94ad-4198-9127-7c5c8f64e20f",
   "metadata": {},
   "outputs": [
    {
     "data": {
      "text/html": [
       "<div>\n",
       "<style scoped>\n",
       "    .dataframe tbody tr th:only-of-type {\n",
       "        vertical-align: middle;\n",
       "    }\n",
       "\n",
       "    .dataframe tbody tr th {\n",
       "        vertical-align: top;\n",
       "    }\n",
       "\n",
       "    .dataframe thead th {\n",
       "        text-align: right;\n",
       "    }\n",
       "</style>\n",
       "<table border=\"1\" class=\"dataframe\">\n",
       "  <thead>\n",
       "    <tr style=\"text-align: right;\">\n",
       "      <th></th>\n",
       "      <th>Magic</th>\n",
       "      <th>Mane Color</th>\n",
       "      <th>Age</th>\n",
       "    </tr>\n",
       "  </thead>\n",
       "  <tbody>\n",
       "    <tr>\n",
       "      <th>Sparkles</th>\n",
       "      <td>Glitter Bomb</td>\n",
       "      <td>Pink</td>\n",
       "      <td>209</td>\n",
       "    </tr>\n",
       "    <tr>\n",
       "      <th>Moonbeam</th>\n",
       "      <td>Icey Beam</td>\n",
       "      <td>White</td>\n",
       "      <td>3094</td>\n",
       "    </tr>\n",
       "    <tr>\n",
       "      <th>Rosey</th>\n",
       "      <td>Petal Flurry</td>\n",
       "      <td>Red</td>\n",
       "      <td>200</td>\n",
       "    </tr>\n",
       "  </tbody>\n",
       "</table>\n",
       "</div>"
      ],
      "text/plain": [
       "                 Magic Mane Color   Age\n",
       "Sparkles  Glitter Bomb       Pink   209\n",
       "Moonbeam     Icey Beam      White  3094\n",
       "Rosey     Petal Flurry        Red   200"
      ]
     },
     "execution_count": 336,
     "metadata": {},
     "output_type": "execute_result"
    }
   ],
   "source": [
    "#.column name and then a conditional narrows the table\n",
    "odd=frame.loc[:][frame.Age >100]\n",
    "odd"
   ]
  },
  {
   "cell_type": "markdown",
   "id": "35f9a3f3-c22e-4ae1-93b5-62caf82c44f4",
   "metadata": {},
   "source": [
    "You can also rewrite data using loc. "
   ]
  },
  {
   "cell_type": "code",
   "execution_count": 360,
   "id": "9d33ecfa-3042-4ee7-a143-9c859ef959a4",
   "metadata": {},
   "outputs": [
    {
     "data": {
      "text/html": [
       "<div>\n",
       "<style scoped>\n",
       "    .dataframe tbody tr th:only-of-type {\n",
       "        vertical-align: middle;\n",
       "    }\n",
       "\n",
       "    .dataframe tbody tr th {\n",
       "        vertical-align: top;\n",
       "    }\n",
       "\n",
       "    .dataframe thead th {\n",
       "        text-align: right;\n",
       "    }\n",
       "</style>\n",
       "<table border=\"1\" class=\"dataframe\">\n",
       "  <thead>\n",
       "    <tr style=\"text-align: right;\">\n",
       "      <th></th>\n",
       "      <th>Magic</th>\n",
       "      <th>Mane Color</th>\n",
       "      <th>Age</th>\n",
       "      <th>Biome</th>\n",
       "    </tr>\n",
       "  </thead>\n",
       "  <tbody>\n",
       "    <tr>\n",
       "      <th>Sparkles</th>\n",
       "      <td>Glitter Bomb</td>\n",
       "      <td>Pink</td>\n",
       "      <td>210</td>\n",
       "      <td>Forest</td>\n",
       "    </tr>\n",
       "    <tr>\n",
       "      <th>Moonbeam</th>\n",
       "      <td>Icey Beam</td>\n",
       "      <td>White</td>\n",
       "      <td>3094</td>\n",
       "      <td>Artic</td>\n",
       "    </tr>\n",
       "    <tr>\n",
       "      <th>Rosey Pie</th>\n",
       "      <td>Petal Flurry</td>\n",
       "      <td>Red</td>\n",
       "      <td>200</td>\n",
       "      <td>Gardens</td>\n",
       "    </tr>\n",
       "    <tr>\n",
       "      <th>Sprinkles</th>\n",
       "      <td>Sugar Crash</td>\n",
       "      <td>Green</td>\n",
       "      <td>35</td>\n",
       "      <td>Clouds</td>\n",
       "    </tr>\n",
       "  </tbody>\n",
       "</table>\n",
       "</div>"
      ],
      "text/plain": [
       "                  Magic Mane Color   Age    Biome\n",
       "Sparkles   Glitter Bomb       Pink   210   Forest\n",
       "Moonbeam      Icey Beam      White  3094    Artic\n",
       "Rosey Pie  Petal Flurry        Red   200  Gardens\n",
       "Sprinkles   Sugar Crash      Green    35   Clouds"
      ]
     },
     "execution_count": 360,
     "metadata": {},
     "output_type": "execute_result"
    }
   ],
   "source": [
    "frame.loc[frame.Age==209, \"Age\"]=210\n",
    "frame"
   ]
  },
  {
   "cell_type": "markdown",
   "id": "61ec08ed-5a7b-4778-989e-dd50454a9c77",
   "metadata": {},
   "source": [
    "Happy birthday Sparkles!"
   ]
  },
  {
   "cell_type": "markdown",
   "id": "8012442c-2037-46a6-99d2-f6ec3c4abdbb",
   "metadata": {},
   "source": [
    "<h2>Add a column</h2>\n",
    "Add a column by naming the df, [\"col name\"]=[value list]. "
   ]
  },
  {
   "cell_type": "code",
   "execution_count": 338,
   "id": "c68b3e31-0d25-45cc-ac51-6cbf29ef1040",
   "metadata": {},
   "outputs": [
    {
     "data": {
      "text/html": [
       "<div>\n",
       "<style scoped>\n",
       "    .dataframe tbody tr th:only-of-type {\n",
       "        vertical-align: middle;\n",
       "    }\n",
       "\n",
       "    .dataframe tbody tr th {\n",
       "        vertical-align: top;\n",
       "    }\n",
       "\n",
       "    .dataframe thead th {\n",
       "        text-align: right;\n",
       "    }\n",
       "</style>\n",
       "<table border=\"1\" class=\"dataframe\">\n",
       "  <thead>\n",
       "    <tr style=\"text-align: right;\">\n",
       "      <th></th>\n",
       "      <th>Magic</th>\n",
       "      <th>Mane Color</th>\n",
       "      <th>Age</th>\n",
       "      <th>Biome</th>\n",
       "    </tr>\n",
       "  </thead>\n",
       "  <tbody>\n",
       "    <tr>\n",
       "      <th>Sparkles</th>\n",
       "      <td>Glitter Bomb</td>\n",
       "      <td>Pink</td>\n",
       "      <td>209</td>\n",
       "      <td>Forest</td>\n",
       "    </tr>\n",
       "    <tr>\n",
       "      <th>Moonbeam</th>\n",
       "      <td>Icey Beam</td>\n",
       "      <td>White</td>\n",
       "      <td>3094</td>\n",
       "      <td>Artic</td>\n",
       "    </tr>\n",
       "    <tr>\n",
       "      <th>Rosey</th>\n",
       "      <td>Petal Flurry</td>\n",
       "      <td>Red</td>\n",
       "      <td>200</td>\n",
       "      <td>Gardens</td>\n",
       "    </tr>\n",
       "    <tr>\n",
       "      <th>Sprinkles</th>\n",
       "      <td>Sugar Crash</td>\n",
       "      <td>Green</td>\n",
       "      <td>35</td>\n",
       "      <td>Clouds</td>\n",
       "    </tr>\n",
       "  </tbody>\n",
       "</table>\n",
       "</div>"
      ],
      "text/plain": [
       "                  Magic Mane Color   Age    Biome\n",
       "Sparkles   Glitter Bomb       Pink   209   Forest\n",
       "Moonbeam      Icey Beam      White  3094    Artic\n",
       "Rosey      Petal Flurry        Red   200  Gardens\n",
       "Sprinkles   Sugar Crash      Green    35   Clouds"
      ]
     },
     "execution_count": 338,
     "metadata": {},
     "output_type": "execute_result"
    }
   ],
   "source": [
    "frame[\"Biome\"]=[\"Forest\",\"Artic\",\"Gardens\",\"Clouds\"]\n",
    "frame"
   ]
  },
  {
   "cell_type": "markdown",
   "id": "ff9aadff-72ef-468f-b319-ccf6db833d73",
   "metadata": {},
   "source": [
    "<h2>Incomplete Series addition with idexes</h2>\n",
    "You can add a series with mising vals by including the indexs."
   ]
  },
  {
   "cell_type": "code",
   "execution_count": 368,
   "id": "e6329f94-1c9d-4236-b41b-529771022325",
   "metadata": {},
   "outputs": [
    {
     "data": {
      "text/html": [
       "<div>\n",
       "<style scoped>\n",
       "    .dataframe tbody tr th:only-of-type {\n",
       "        vertical-align: middle;\n",
       "    }\n",
       "\n",
       "    .dataframe tbody tr th {\n",
       "        vertical-align: top;\n",
       "    }\n",
       "\n",
       "    .dataframe thead th {\n",
       "        text-align: right;\n",
       "    }\n",
       "</style>\n",
       "<table border=\"1\" class=\"dataframe\">\n",
       "  <thead>\n",
       "    <tr style=\"text-align: right;\">\n",
       "      <th></th>\n",
       "      <th>Magic</th>\n",
       "      <th>Mane Color</th>\n",
       "      <th>Age</th>\n",
       "      <th>Biome</th>\n",
       "      <th>Scent</th>\n",
       "      <th>scent</th>\n",
       "    </tr>\n",
       "  </thead>\n",
       "  <tbody>\n",
       "    <tr>\n",
       "      <th>Sparkles</th>\n",
       "      <td>Glitter Bomb</td>\n",
       "      <td>Pink</td>\n",
       "      <td>210</td>\n",
       "      <td>Forest</td>\n",
       "      <td>NaN</td>\n",
       "      <td>NaN</td>\n",
       "    </tr>\n",
       "    <tr>\n",
       "      <th>Moonbeam</th>\n",
       "      <td>Icey Beam</td>\n",
       "      <td>White</td>\n",
       "      <td>3094</td>\n",
       "      <td>Artic</td>\n",
       "      <td>NaN</td>\n",
       "      <td>NaN</td>\n",
       "    </tr>\n",
       "    <tr>\n",
       "      <th>Rosey Pie</th>\n",
       "      <td>Petal Flurry</td>\n",
       "      <td>Red</td>\n",
       "      <td>200</td>\n",
       "      <td>Gardens</td>\n",
       "      <td>NaN</td>\n",
       "      <td>NaN</td>\n",
       "    </tr>\n",
       "    <tr>\n",
       "      <th>Sprinkles</th>\n",
       "      <td>Sugar Crash</td>\n",
       "      <td>Green</td>\n",
       "      <td>35</td>\n",
       "      <td>Clouds</td>\n",
       "      <td>NaN</td>\n",
       "      <td>NaN</td>\n",
       "    </tr>\n",
       "  </tbody>\n",
       "</table>\n",
       "</div>"
      ],
      "text/plain": [
       "                  Magic Mane Color   Age    Biome Scent scent\n",
       "Sparkles   Glitter Bomb       Pink   210   Forest   NaN   NaN\n",
       "Moonbeam      Icey Beam      White  3094    Artic   NaN   NaN\n",
       "Rosey Pie  Petal Flurry        Red   200  Gardens   NaN   NaN\n",
       "Sprinkles   Sugar Crash      Green    35   Clouds   NaN   NaN"
      ]
     },
     "execution_count": 368,
     "metadata": {},
     "output_type": "execute_result"
    }
   ],
   "source": [
    "scent = pd.Series([\"Mint\",\"Rose\"], index=[1,2])\n",
    "frame[\"Scent\"]=scent\n",
    "frame"
   ]
  },
  {
   "cell_type": "code",
   "execution_count": 340,
   "id": "e085d73b-ae01-4dd8-9d5c-a6968bada89c",
   "metadata": {},
   "outputs": [
    {
     "data": {
      "text/html": [
       "<div>\n",
       "<style scoped>\n",
       "    .dataframe tbody tr th:only-of-type {\n",
       "        vertical-align: middle;\n",
       "    }\n",
       "\n",
       "    .dataframe tbody tr th {\n",
       "        vertical-align: top;\n",
       "    }\n",
       "\n",
       "    .dataframe thead th {\n",
       "        text-align: right;\n",
       "    }\n",
       "</style>\n",
       "<table border=\"1\" class=\"dataframe\">\n",
       "  <thead>\n",
       "    <tr style=\"text-align: right;\">\n",
       "      <th></th>\n",
       "      <th>Magic</th>\n",
       "      <th>Mane Color</th>\n",
       "      <th>Age</th>\n",
       "      <th>Biome</th>\n",
       "      <th>Scent</th>\n",
       "    </tr>\n",
       "  </thead>\n",
       "  <tbody>\n",
       "    <tr>\n",
       "      <th>Sparkles</th>\n",
       "      <td>Glitter Bomb</td>\n",
       "      <td>Pink</td>\n",
       "      <td>209</td>\n",
       "      <td>Forest</td>\n",
       "      <td>NaN</td>\n",
       "    </tr>\n",
       "    <tr>\n",
       "      <th>Moonbeam</th>\n",
       "      <td>Icey Beam</td>\n",
       "      <td>White</td>\n",
       "      <td>3094</td>\n",
       "      <td>Artic</td>\n",
       "      <td>NaN</td>\n",
       "    </tr>\n",
       "    <tr>\n",
       "      <th>Rosey Pie</th>\n",
       "      <td>Petal Flurry</td>\n",
       "      <td>Red</td>\n",
       "      <td>200</td>\n",
       "      <td>Gardens</td>\n",
       "      <td>NaN</td>\n",
       "    </tr>\n",
       "    <tr>\n",
       "      <th>Sprinkles</th>\n",
       "      <td>Sugar Crash</td>\n",
       "      <td>Green</td>\n",
       "      <td>35</td>\n",
       "      <td>Clouds</td>\n",
       "      <td>NaN</td>\n",
       "    </tr>\n",
       "  </tbody>\n",
       "</table>\n",
       "</div>"
      ],
      "text/plain": [
       "                  Magic Mane Color   Age    Biome Scent\n",
       "Sparkles   Glitter Bomb       Pink   209   Forest   NaN\n",
       "Moonbeam      Icey Beam      White  3094    Artic   NaN\n",
       "Rosey Pie  Petal Flurry        Red   200  Gardens   NaN\n",
       "Sprinkles   Sugar Crash      Green    35   Clouds   NaN"
      ]
     },
     "execution_count": 340,
     "metadata": {},
     "output_type": "execute_result"
    }
   ],
   "source": [
    "frame.index=[\"Sparkles\",\"Moonbeam\",\"Rosey Pie\",\"Sprinkles\"]\n",
    "frame\n",
    "#Tired of not having names on the index"
   ]
  },
  {
   "cell_type": "markdown",
   "id": "6089a44a-1ea8-4f28-85af-210ceea2e2b5",
   "metadata": {},
   "source": [
    "<h2>del to delete</h2>\n",
    "Delete cols with del"
   ]
  },
  {
   "cell_type": "code",
   "execution_count": 341,
   "id": "2165a70a-b93a-4e50-92c5-a5c61dd33217",
   "metadata": {},
   "outputs": [
    {
     "data": {
      "text/html": [
       "<div>\n",
       "<style scoped>\n",
       "    .dataframe tbody tr th:only-of-type {\n",
       "        vertical-align: middle;\n",
       "    }\n",
       "\n",
       "    .dataframe tbody tr th {\n",
       "        vertical-align: top;\n",
       "    }\n",
       "\n",
       "    .dataframe thead th {\n",
       "        text-align: right;\n",
       "    }\n",
       "</style>\n",
       "<table border=\"1\" class=\"dataframe\">\n",
       "  <thead>\n",
       "    <tr style=\"text-align: right;\">\n",
       "      <th></th>\n",
       "      <th>Magic</th>\n",
       "      <th>Mane Color</th>\n",
       "      <th>Age</th>\n",
       "      <th>Biome</th>\n",
       "    </tr>\n",
       "  </thead>\n",
       "  <tbody>\n",
       "    <tr>\n",
       "      <th>Sparkles</th>\n",
       "      <td>Glitter Bomb</td>\n",
       "      <td>Pink</td>\n",
       "      <td>209</td>\n",
       "      <td>Forest</td>\n",
       "    </tr>\n",
       "    <tr>\n",
       "      <th>Moonbeam</th>\n",
       "      <td>Icey Beam</td>\n",
       "      <td>White</td>\n",
       "      <td>3094</td>\n",
       "      <td>Artic</td>\n",
       "    </tr>\n",
       "    <tr>\n",
       "      <th>Rosey Pie</th>\n",
       "      <td>Petal Flurry</td>\n",
       "      <td>Red</td>\n",
       "      <td>200</td>\n",
       "      <td>Gardens</td>\n",
       "    </tr>\n",
       "    <tr>\n",
       "      <th>Sprinkles</th>\n",
       "      <td>Sugar Crash</td>\n",
       "      <td>Green</td>\n",
       "      <td>35</td>\n",
       "      <td>Clouds</td>\n",
       "    </tr>\n",
       "  </tbody>\n",
       "</table>\n",
       "</div>"
      ],
      "text/plain": [
       "                  Magic Mane Color   Age    Biome\n",
       "Sparkles   Glitter Bomb       Pink   209   Forest\n",
       "Moonbeam      Icey Beam      White  3094    Artic\n",
       "Rosey Pie  Petal Flurry        Red   200  Gardens\n",
       "Sprinkles   Sugar Crash      Green    35   Clouds"
      ]
     },
     "execution_count": 341,
     "metadata": {},
     "output_type": "execute_result"
    }
   ],
   "source": [
    "del frame[\"Scent\"]\n",
    "frame"
   ]
  },
  {
   "cell_type": "markdown",
   "id": "013dab5d-a562-4980-9db3-7adf736b899d",
   "metadata": {},
   "source": [
    "<h2>DF made by dict of dicts</h2>\n",
    "You can pass in a dict of dict and Pandas will name the cols with the outer keys and the indexs with the inner keys."
   ]
  },
  {
   "cell_type": "code",
   "execution_count": 342,
   "id": "7fe904cc-160b-46b8-85db-57e38a47f316",
   "metadata": {},
   "outputs": [
    {
     "data": {
      "text/html": [
       "<div>\n",
       "<style scoped>\n",
       "    .dataframe tbody tr th:only-of-type {\n",
       "        vertical-align: middle;\n",
       "    }\n",
       "\n",
       "    .dataframe tbody tr th {\n",
       "        vertical-align: top;\n",
       "    }\n",
       "\n",
       "    .dataframe thead th {\n",
       "        text-align: right;\n",
       "    }\n",
       "</style>\n",
       "<table border=\"1\" class=\"dataframe\">\n",
       "  <thead>\n",
       "    <tr style=\"text-align: right;\">\n",
       "      <th></th>\n",
       "      <th>Job</th>\n",
       "      <th>Fav Food</th>\n",
       "    </tr>\n",
       "  </thead>\n",
       "  <tbody>\n",
       "    <tr>\n",
       "      <th>Sam</th>\n",
       "      <td>Radio Operator</td>\n",
       "      <td>Curly Wurlies</td>\n",
       "    </tr>\n",
       "    <tr>\n",
       "      <th>Janine</th>\n",
       "      <td>Director</td>\n",
       "      <td>Potatoes</td>\n",
       "    </tr>\n",
       "    <tr>\n",
       "      <th>Dr Myers</th>\n",
       "      <td>Doctor</td>\n",
       "      <td>Apples</td>\n",
       "    </tr>\n",
       "  </tbody>\n",
       "</table>\n",
       "</div>"
      ],
      "text/plain": [
       "                     Job       Fav Food\n",
       "Sam       Radio Operator  Curly Wurlies\n",
       "Janine          Director       Potatoes\n",
       "Dr Myers          Doctor         Apples"
      ]
     },
     "execution_count": 342,
     "metadata": {},
     "output_type": "execute_result"
    }
   ],
   "source": [
    "abel_personel = {\"Job\":{\"Sam\":\"Radio Operator\",\"Janine\":\"Director\",\"Dr Myers\":\"Doctor\"},\n",
    "                 \"Fav Food\":{\"Sam\":\"Curly Wurlies\",\"Janine\":\"Potatoes\",\"Dr Myers\":\"Apples\"}}\n",
    "\n",
    "abel_frame = pd.DataFrame(abel_personel)\n",
    "abel_frame"
   ]
  },
  {
   "cell_type": "markdown",
   "id": "073cbbe0-8f93-4eac-a686-fe98f8905a27",
   "metadata": {},
   "source": [
    "Reorganize the rows:"
   ]
  },
  {
   "cell_type": "code",
   "execution_count": 343,
   "id": "cb4f3055-9a6f-47bc-97ff-0b396af677f3",
   "metadata": {},
   "outputs": [
    {
     "data": {
      "text/html": [
       "<div>\n",
       "<style scoped>\n",
       "    .dataframe tbody tr th:only-of-type {\n",
       "        vertical-align: middle;\n",
       "    }\n",
       "\n",
       "    .dataframe tbody tr th {\n",
       "        vertical-align: top;\n",
       "    }\n",
       "\n",
       "    .dataframe thead th {\n",
       "        text-align: right;\n",
       "    }\n",
       "</style>\n",
       "<table border=\"1\" class=\"dataframe\">\n",
       "  <thead>\n",
       "    <tr style=\"text-align: right;\">\n",
       "      <th></th>\n",
       "      <th>Job</th>\n",
       "      <th>Fav Food</th>\n",
       "    </tr>\n",
       "  </thead>\n",
       "  <tbody>\n",
       "    <tr>\n",
       "      <th>Janine</th>\n",
       "      <td>Director</td>\n",
       "      <td>Potatoes</td>\n",
       "    </tr>\n",
       "    <tr>\n",
       "      <th>Dr Myers</th>\n",
       "      <td>Doctor</td>\n",
       "      <td>Apples</td>\n",
       "    </tr>\n",
       "    <tr>\n",
       "      <th>Sam</th>\n",
       "      <td>Radio Operator</td>\n",
       "      <td>Curly Wurlies</td>\n",
       "    </tr>\n",
       "  </tbody>\n",
       "</table>\n",
       "</div>"
      ],
      "text/plain": [
       "                     Job       Fav Food\n",
       "Janine          Director       Potatoes\n",
       "Dr Myers          Doctor         Apples\n",
       "Sam       Radio Operator  Curly Wurlies"
      ]
     },
     "execution_count": 343,
     "metadata": {},
     "output_type": "execute_result"
    }
   ],
   "source": [
    "abp2=abel_frame.reindex([\"Janine\",\"Dr Myers\",\"Sam\"])\n",
    "abp2"
   ]
  },
  {
   "cell_type": "markdown",
   "id": "b5cd8055-59fb-4b73-ba17-fe463f028f64",
   "metadata": {},
   "source": [
    "<h1>5.2  Essential Functionality INTEROPLATION</h1>"
   ]
  },
  {
   "cell_type": "markdown",
   "id": "011b4f6d-a2b1-45e6-a450-91c0c9215279",
   "metadata": {},
   "source": [
    "Interoplation: You can fill in info that is missing from original sources:"
   ]
  },
  {
   "cell_type": "code",
   "execution_count": 344,
   "id": "9957b752-fd3d-41aa-aedb-5f512285ecca",
   "metadata": {},
   "outputs": [
    {
     "data": {
      "text/plain": [
       "0              Portal\n",
       "3            BioShock\n",
       "5    Cult of the Lamb\n",
       "dtype: object"
      ]
     },
     "execution_count": 344,
     "metadata": {},
     "output_type": "execute_result"
    }
   ],
   "source": [
    "fgames=pd.Series([\"Portal\",\"BioShock\",\"Cult of the Lamb\"], index=[0,3,5])\n",
    "fgames"
   ]
  },
  {
   "cell_type": "markdown",
   "id": "3151219e-e43d-4e59-88c4-248a6b8f5b56",
   "metadata": {},
   "source": [
    "<h2>np.arange and ffill Method</h2>\n",
    "To stretch a table, use arrange to add cells with null cells. ffill will copy into the nulls the last listed value."
   ]
  },
  {
   "cell_type": "code",
   "execution_count": 345,
   "id": "b4962719-bee8-4d24-9fdc-06cff9e43a1a",
   "metadata": {},
   "outputs": [
    {
     "data": {
      "text/plain": [
       "0              Portal\n",
       "1              Portal\n",
       "2              Portal\n",
       "3            BioShock\n",
       "4            BioShock\n",
       "5    Cult of the Lamb\n",
       "dtype: object"
      ]
     },
     "execution_count": 345,
     "metadata": {},
     "output_type": "execute_result"
    }
   ],
   "source": [
    "fgames.reindex(np.arange(6),method=\"ffill\")\n",
    "##This males a new one, not replace the old one."
   ]
  },
  {
   "cell_type": "markdown",
   "id": "d477d897-5b70-4a4d-975c-58c8ff6408c3",
   "metadata": {},
   "source": [
    "<h2>.reshape(())</h2>\n",
    ".reshape( (tuple) ) specifies how many columns and rows need to be there. "
   ]
  },
  {
   "cell_type": "code",
   "execution_count": 346,
   "id": "e219150b-1377-460e-b2d7-685eeec10e95",
   "metadata": {},
   "outputs": [
    {
     "data": {
      "text/html": [
       "<div>\n",
       "<style scoped>\n",
       "    .dataframe tbody tr th:only-of-type {\n",
       "        vertical-align: middle;\n",
       "    }\n",
       "\n",
       "    .dataframe tbody tr th {\n",
       "        vertical-align: top;\n",
       "    }\n",
       "\n",
       "    .dataframe thead th {\n",
       "        text-align: right;\n",
       "    }\n",
       "</style>\n",
       "<table border=\"1\" class=\"dataframe\">\n",
       "  <thead>\n",
       "    <tr style=\"text-align: right;\">\n",
       "      <th></th>\n",
       "      <th>Games Won</th>\n",
       "      <th>Games Lost</th>\n",
       "      <th>Games Tied</th>\n",
       "    </tr>\n",
       "  </thead>\n",
       "  <tbody>\n",
       "    <tr>\n",
       "      <th>Sam</th>\n",
       "      <td>0</td>\n",
       "      <td>1</td>\n",
       "      <td>2</td>\n",
       "    </tr>\n",
       "    <tr>\n",
       "      <th>Janine</th>\n",
       "      <td>3</td>\n",
       "      <td>4</td>\n",
       "      <td>5</td>\n",
       "    </tr>\n",
       "    <tr>\n",
       "      <th>Maxine</th>\n",
       "      <td>6</td>\n",
       "      <td>7</td>\n",
       "      <td>8</td>\n",
       "    </tr>\n",
       "  </tbody>\n",
       "</table>\n",
       "</div>"
      ],
      "text/plain": [
       "        Games Won  Games Lost  Games Tied\n",
       "Sam             0           1           2\n",
       "Janine          3           4           5\n",
       "Maxine          6           7           8"
      ]
     },
     "execution_count": 346,
     "metadata": {},
     "output_type": "execute_result"
    }
   ],
   "source": [
    "exex=pd.DataFrame(np.arange(9).reshape((3,3)),\n",
    "index=[\"Sam\",\"Janine\",\"Maxine\"],columns=[\"Games Won\",\"Games Lost\",\"Games Tied\"])\n",
    "exex"
   ]
  },
  {
   "cell_type": "markdown",
   "id": "375fcb01-7b03-42af-b743-74f2be0915a6",
   "metadata": {},
   "source": [
    "<h2>.reindex(index=[\"rows\"])</h2>\n",
    "index lables the rows, columns labels the cols. The cells are filled with numbers by the arrange method."
   ]
  },
  {
   "cell_type": "code",
   "execution_count": 347,
   "id": "825b843c-0679-436f-a61d-c4050424d0b0",
   "metadata": {},
   "outputs": [
    {
     "data": {
      "text/html": [
       "<div>\n",
       "<style scoped>\n",
       "    .dataframe tbody tr th:only-of-type {\n",
       "        vertical-align: middle;\n",
       "    }\n",
       "\n",
       "    .dataframe tbody tr th {\n",
       "        vertical-align: top;\n",
       "    }\n",
       "\n",
       "    .dataframe thead th {\n",
       "        text-align: right;\n",
       "    }\n",
       "</style>\n",
       "<table border=\"1\" class=\"dataframe\">\n",
       "  <thead>\n",
       "    <tr style=\"text-align: right;\">\n",
       "      <th></th>\n",
       "      <th>Games Won</th>\n",
       "      <th>Games Lost</th>\n",
       "      <th>Games Tied</th>\n",
       "    </tr>\n",
       "  </thead>\n",
       "  <tbody>\n",
       "    <tr>\n",
       "      <th>Sam</th>\n",
       "      <td>0.0</td>\n",
       "      <td>1.0</td>\n",
       "      <td>2.0</td>\n",
       "    </tr>\n",
       "    <tr>\n",
       "      <th>Jodie</th>\n",
       "      <td>NaN</td>\n",
       "      <td>NaN</td>\n",
       "      <td>NaN</td>\n",
       "    </tr>\n",
       "    <tr>\n",
       "      <th>Janine</th>\n",
       "      <td>3.0</td>\n",
       "      <td>4.0</td>\n",
       "      <td>5.0</td>\n",
       "    </tr>\n",
       "    <tr>\n",
       "      <th>maxine</th>\n",
       "      <td>NaN</td>\n",
       "      <td>NaN</td>\n",
       "      <td>NaN</td>\n",
       "    </tr>\n",
       "    <tr>\n",
       "      <th>Five</th>\n",
       "      <td>NaN</td>\n",
       "      <td>NaN</td>\n",
       "      <td>NaN</td>\n",
       "    </tr>\n",
       "  </tbody>\n",
       "</table>\n",
       "</div>"
      ],
      "text/plain": [
       "        Games Won  Games Lost  Games Tied\n",
       "Sam           0.0         1.0         2.0\n",
       "Jodie         NaN         NaN         NaN\n",
       "Janine        3.0         4.0         5.0\n",
       "maxine        NaN         NaN         NaN\n",
       "Five          NaN         NaN         NaN"
      ]
     },
     "execution_count": 347,
     "metadata": {},
     "output_type": "execute_result"
    }
   ],
   "source": [
    "atgn=exex.reindex(index=[\"Sam\",\"Jodie\",\"Janine\",\"maxine\",\"Five\"])\n",
    "atgn"
   ]
  },
  {
   "cell_type": "markdown",
   "id": "c5c82e4f-1ec0-45a1-8294-0c18473b69ff",
   "metadata": {},
   "source": [
    "If you add rows with reindex, they will be filled with nas. This DOES NOT alter the original table and needsto be dumped in a var."
   ]
  },
  {
   "cell_type": "code",
   "execution_count": 348,
   "id": "cfdcc848-9594-4e2e-9b76-1bdc82c44e81",
   "metadata": {},
   "outputs": [
    {
     "data": {
      "text/html": [
       "<div>\n",
       "<style scoped>\n",
       "    .dataframe tbody tr th:only-of-type {\n",
       "        vertical-align: middle;\n",
       "    }\n",
       "\n",
       "    .dataframe tbody tr th {\n",
       "        vertical-align: top;\n",
       "    }\n",
       "\n",
       "    .dataframe thead th {\n",
       "        text-align: right;\n",
       "    }\n",
       "</style>\n",
       "<table border=\"1\" class=\"dataframe\">\n",
       "  <thead>\n",
       "    <tr style=\"text-align: right;\">\n",
       "      <th></th>\n",
       "      <th>Games Won</th>\n",
       "      <th>Games Lost</th>\n",
       "      <th>Games Tied</th>\n",
       "      <th>Games Missed</th>\n",
       "    </tr>\n",
       "  </thead>\n",
       "  <tbody>\n",
       "    <tr>\n",
       "      <th>Sam</th>\n",
       "      <td>0.0</td>\n",
       "      <td>1.0</td>\n",
       "      <td>2.0</td>\n",
       "      <td>NaN</td>\n",
       "    </tr>\n",
       "    <tr>\n",
       "      <th>Jodie</th>\n",
       "      <td>NaN</td>\n",
       "      <td>NaN</td>\n",
       "      <td>NaN</td>\n",
       "      <td>NaN</td>\n",
       "    </tr>\n",
       "    <tr>\n",
       "      <th>Janine</th>\n",
       "      <td>3.0</td>\n",
       "      <td>4.0</td>\n",
       "      <td>5.0</td>\n",
       "      <td>NaN</td>\n",
       "    </tr>\n",
       "    <tr>\n",
       "      <th>maxine</th>\n",
       "      <td>NaN</td>\n",
       "      <td>NaN</td>\n",
       "      <td>NaN</td>\n",
       "      <td>NaN</td>\n",
       "    </tr>\n",
       "    <tr>\n",
       "      <th>Five</th>\n",
       "      <td>NaN</td>\n",
       "      <td>NaN</td>\n",
       "      <td>NaN</td>\n",
       "      <td>NaN</td>\n",
       "    </tr>\n",
       "  </tbody>\n",
       "</table>\n",
       "</div>"
      ],
      "text/plain": [
       "        Games Won  Games Lost  Games Tied  Games Missed\n",
       "Sam           0.0         1.0         2.0           NaN\n",
       "Jodie         NaN         NaN         NaN           NaN\n",
       "Janine        3.0         4.0         5.0           NaN\n",
       "maxine        NaN         NaN         NaN           NaN\n",
       "Five          NaN         NaN         NaN           NaN"
      ]
     },
     "execution_count": 348,
     "metadata": {},
     "output_type": "execute_result"
    }
   ],
   "source": [
    "gncols=[\"Games Won\",\"Games Lost\",\"Games Tied\",\"Games Missed\"]\n",
    "atgn2=atgn.reindex(columns=gncols)\n",
    "atgn2"
   ]
  },
  {
   "cell_type": "markdown",
   "id": "c1560dd2-f231-4f8f-aeb0-165dd7c31dc6",
   "metadata": {},
   "source": [
    "## drop(\"\")\n",
    "You can drop an index and return a new table."
   ]
  },
  {
   "cell_type": "code",
   "execution_count": 349,
   "id": "83e379bd-6f48-4131-9a29-457b5d610ff9",
   "metadata": {},
   "outputs": [
    {
     "data": {
      "text/html": [
       "<div>\n",
       "<style scoped>\n",
       "    .dataframe tbody tr th:only-of-type {\n",
       "        vertical-align: middle;\n",
       "    }\n",
       "\n",
       "    .dataframe tbody tr th {\n",
       "        vertical-align: top;\n",
       "    }\n",
       "\n",
       "    .dataframe thead th {\n",
       "        text-align: right;\n",
       "    }\n",
       "</style>\n",
       "<table border=\"1\" class=\"dataframe\">\n",
       "  <thead>\n",
       "    <tr style=\"text-align: right;\">\n",
       "      <th></th>\n",
       "      <th>Games Won</th>\n",
       "      <th>Games Lost</th>\n",
       "      <th>Games Tied</th>\n",
       "      <th>Games Missed</th>\n",
       "    </tr>\n",
       "  </thead>\n",
       "  <tbody>\n",
       "    <tr>\n",
       "      <th>Sam</th>\n",
       "      <td>0.0</td>\n",
       "      <td>1.0</td>\n",
       "      <td>2.0</td>\n",
       "      <td>NaN</td>\n",
       "    </tr>\n",
       "    <tr>\n",
       "      <th>Jodie</th>\n",
       "      <td>NaN</td>\n",
       "      <td>NaN</td>\n",
       "      <td>NaN</td>\n",
       "      <td>NaN</td>\n",
       "    </tr>\n",
       "    <tr>\n",
       "      <th>Janine</th>\n",
       "      <td>3.0</td>\n",
       "      <td>4.0</td>\n",
       "      <td>5.0</td>\n",
       "      <td>NaN</td>\n",
       "    </tr>\n",
       "    <tr>\n",
       "      <th>maxine</th>\n",
       "      <td>NaN</td>\n",
       "      <td>NaN</td>\n",
       "      <td>NaN</td>\n",
       "      <td>NaN</td>\n",
       "    </tr>\n",
       "  </tbody>\n",
       "</table>\n",
       "</div>"
      ],
      "text/plain": [
       "        Games Won  Games Lost  Games Tied  Games Missed\n",
       "Sam           0.0         1.0         2.0           NaN\n",
       "Jodie         NaN         NaN         NaN           NaN\n",
       "Janine        3.0         4.0         5.0           NaN\n",
       "maxine        NaN         NaN         NaN           NaN"
      ]
     },
     "execution_count": 349,
     "metadata": {},
     "output_type": "execute_result"
    }
   ],
   "source": [
    "atgn3=atgn2.drop(\"Five\")\n",
    "atgn3"
   ]
  },
  {
   "cell_type": "markdown",
   "id": "e1b8697f-b28b-4714-807d-2227f51900ef",
   "metadata": {},
   "source": [
    "## Data Alignment\n",
    "When you mae a DF from two series of diff lengths that share some indexes, you get a bunch of nulls."
   ]
  },
  {
   "cell_type": "code",
   "execution_count": 350,
   "id": "1d44a4fa-f64d-451b-ace5-59ab205a00da",
   "metadata": {},
   "outputs": [
    {
     "data": {
      "text/plain": [
       "Portal               4.0\n",
       "Far Cry 5            2.0\n",
       "Witness              3.0\n",
       "Cult of the Lamb    10.0\n",
       "dtype: float64"
      ]
     },
     "execution_count": 350,
     "metadata": {},
     "output_type": "execute_result"
    }
   ],
   "source": [
    "a1=pd.Series([4.0,2.0,3.0,10.0], index=[\"Portal\",\"Far Cry 5\",\"Witness\",\"Cult of the Lamb\"])\n",
    "a2=pd.Series([8.0,6.0,4.0], index=[\"Portal\",\"Uncharted\",\"Cult of the Lamb\"])\n",
    "a1"
   ]
  },
  {
   "cell_type": "code",
   "execution_count": 351,
   "id": "a0c5bd50-1898-4b46-b56a-a004e2b31c5e",
   "metadata": {},
   "outputs": [
    {
     "data": {
      "text/plain": [
       "Portal              8.0\n",
       "Uncharted           6.0\n",
       "Cult of the Lamb    4.0\n",
       "dtype: float64"
      ]
     },
     "execution_count": 351,
     "metadata": {},
     "output_type": "execute_result"
    }
   ],
   "source": [
    "a2"
   ]
  },
  {
   "cell_type": "code",
   "execution_count": 352,
   "id": "3522e6d1-5908-40de-820b-fe88954e0175",
   "metadata": {},
   "outputs": [
    {
     "data": {
      "text/plain": [
       "Cult of the Lamb    14.0\n",
       "Far Cry 5            NaN\n",
       "Portal              12.0\n",
       "Uncharted            NaN\n",
       "Witness              NaN\n",
       "dtype: float64"
      ]
     },
     "execution_count": 352,
     "metadata": {},
     "output_type": "execute_result"
    }
   ],
   "source": [
    "a1+a2\n",
    "#This will add the numberic values. If nothing is added, the result is turned null."
   ]
  },
  {
   "cell_type": "markdown",
   "id": "c0504cc3-e53c-4781-b76e-d146e9fff05d",
   "metadata": {},
   "source": [
    "### .concat([s1,s2], axis=1)\n",
    "We need to realign the data. "
   ]
  },
  {
   "cell_type": "code",
   "execution_count": 353,
   "id": "3c6c7926-4b6a-4fca-9ea2-de6b73f629b5",
   "metadata": {},
   "outputs": [
    {
     "data": {
      "text/html": [
       "<div>\n",
       "<style scoped>\n",
       "    .dataframe tbody tr th:only-of-type {\n",
       "        vertical-align: middle;\n",
       "    }\n",
       "\n",
       "    .dataframe tbody tr th {\n",
       "        vertical-align: top;\n",
       "    }\n",
       "\n",
       "    .dataframe thead th {\n",
       "        text-align: right;\n",
       "    }\n",
       "</style>\n",
       "<table border=\"1\" class=\"dataframe\">\n",
       "  <thead>\n",
       "    <tr style=\"text-align: right;\">\n",
       "      <th></th>\n",
       "      <th>0</th>\n",
       "      <th>1</th>\n",
       "    </tr>\n",
       "  </thead>\n",
       "  <tbody>\n",
       "    <tr>\n",
       "      <th>Portal</th>\n",
       "      <td>4.0</td>\n",
       "      <td>8.0</td>\n",
       "    </tr>\n",
       "    <tr>\n",
       "      <th>Far Cry 5</th>\n",
       "      <td>2.0</td>\n",
       "      <td>NaN</td>\n",
       "    </tr>\n",
       "    <tr>\n",
       "      <th>Witness</th>\n",
       "      <td>3.0</td>\n",
       "      <td>NaN</td>\n",
       "    </tr>\n",
       "    <tr>\n",
       "      <th>Cult of the Lamb</th>\n",
       "      <td>10.0</td>\n",
       "      <td>4.0</td>\n",
       "    </tr>\n",
       "    <tr>\n",
       "      <th>Uncharted</th>\n",
       "      <td>NaN</td>\n",
       "      <td>6.0</td>\n",
       "    </tr>\n",
       "  </tbody>\n",
       "</table>\n",
       "</div>"
      ],
      "text/plain": [
       "                     0    1\n",
       "Portal             4.0  8.0\n",
       "Far Cry 5          2.0  NaN\n",
       "Witness            3.0  NaN\n",
       "Cult of the Lamb  10.0  4.0\n",
       "Uncharted          NaN  6.0"
      ]
     },
     "execution_count": 353,
     "metadata": {},
     "output_type": "execute_result"
    }
   ],
   "source": [
    "grating=pd.concat([a1,a2], axis=1)\n",
    "grating"
   ]
  },
  {
   "cell_type": "markdown",
   "id": "7dde45ac-9a3d-4cb0-b490-75c0d2754006",
   "metadata": {},
   "source": [
    "### Fill Value\n",
    "fill_value=0 lets you add two mis-matched semi-sharing series without any nans. "
   ]
  },
  {
   "cell_type": "code",
   "execution_count": 354,
   "id": "14c6b4c6-caec-4303-b9f8-b2cc5cc9ff7f",
   "metadata": {},
   "outputs": [
    {
     "data": {
      "text/plain": [
       "Cult of the Lamb    14.0\n",
       "Far Cry 5            2.0\n",
       "Portal              12.0\n",
       "Uncharted            6.0\n",
       "Witness              3.0\n",
       "dtype: float64"
      ]
     },
     "execution_count": 354,
     "metadata": {},
     "output_type": "execute_result"
    }
   ],
   "source": [
    "bettergrating=a1.add(a2, fill_value=0)\n",
    "bettergrating"
   ]
  },
  {
   "cell_type": "markdown",
   "id": "4727dfd7-39a9-4682-8e8e-a80cb1524f54",
   "metadata": {},
   "source": [
    "## Function Application and Mapping"
   ]
  },
  {
   "cell_type": "markdown",
   "id": "9e16475b-78b7-4ef3-9b4c-37e191ebf89e",
   "metadata": {},
   "source": [
    "### .random.standard_normal((tuple))\n",
    "Random.stanrd_normal fills cells with random floats. The tuple is the rows/cols like in the shape."
   ]
  },
  {
   "cell_type": "code",
   "execution_count": 355,
   "id": "5c658336-9c6e-4833-ba0e-406504bb4f6b",
   "metadata": {},
   "outputs": [
    {
     "data": {
      "text/html": [
       "<div>\n",
       "<style scoped>\n",
       "    .dataframe tbody tr th:only-of-type {\n",
       "        vertical-align: middle;\n",
       "    }\n",
       "\n",
       "    .dataframe tbody tr th {\n",
       "        vertical-align: top;\n",
       "    }\n",
       "\n",
       "    .dataframe thead th {\n",
       "        text-align: right;\n",
       "    }\n",
       "</style>\n",
       "<table border=\"1\" class=\"dataframe\">\n",
       "  <thead>\n",
       "    <tr style=\"text-align: right;\">\n",
       "      <th></th>\n",
       "      <th>Hair</th>\n",
       "      <th>Smile</th>\n",
       "      <th>Style</th>\n",
       "    </tr>\n",
       "  </thead>\n",
       "  <tbody>\n",
       "    <tr>\n",
       "      <th>Sam</th>\n",
       "      <td>-0.300477</td>\n",
       "      <td>0.614780</td>\n",
       "      <td>1.091987</td>\n",
       "    </tr>\n",
       "    <tr>\n",
       "      <th>Janine</th>\n",
       "      <td>-1.635806</td>\n",
       "      <td>-0.015615</td>\n",
       "      <td>-1.670969</td>\n",
       "    </tr>\n",
       "    <tr>\n",
       "      <th>Maxine</th>\n",
       "      <td>0.849102</td>\n",
       "      <td>0.825574</td>\n",
       "      <td>-1.003929</td>\n",
       "    </tr>\n",
       "    <tr>\n",
       "      <th>Five</th>\n",
       "      <td>0.315965</td>\n",
       "      <td>-1.049139</td>\n",
       "      <td>1.536692</td>\n",
       "    </tr>\n",
       "  </tbody>\n",
       "</table>\n",
       "</div>"
      ],
      "text/plain": [
       "            Hair     Smile     Style\n",
       "Sam    -0.300477  0.614780  1.091987\n",
       "Janine -1.635806 -0.015615 -1.670969\n",
       "Maxine  0.849102  0.825574 -1.003929\n",
       "Five    0.315965 -1.049139  1.536692"
      ]
     },
     "execution_count": 355,
     "metadata": {},
     "output_type": "execute_result"
    }
   ],
   "source": [
    "randorate=pd.DataFrame(np.random.standard_normal((4,3)),\n",
    "                       columns=[\"Hair\",\"Smile\",\"Style\"],\n",
    "                       index=[\"Sam\",\"Janine\",\"Maxine\",\"Five\"])\n",
    "randorate"
   ]
  },
  {
   "cell_type": "markdown",
   "id": "ec85d9a0-e518-46fa-9c68-6a852fd6fa50",
   "metadata": {},
   "source": [
    "### .abs(df name)\n",
    ".abs turns all negatives into positives."
   ]
  },
  {
   "cell_type": "code",
   "execution_count": 356,
   "id": "34726f04-fb85-4ab8-8620-df186f350caf",
   "metadata": {},
   "outputs": [
    {
     "data": {
      "text/html": [
       "<div>\n",
       "<style scoped>\n",
       "    .dataframe tbody tr th:only-of-type {\n",
       "        vertical-align: middle;\n",
       "    }\n",
       "\n",
       "    .dataframe tbody tr th {\n",
       "        vertical-align: top;\n",
       "    }\n",
       "\n",
       "    .dataframe thead th {\n",
       "        text-align: right;\n",
       "    }\n",
       "</style>\n",
       "<table border=\"1\" class=\"dataframe\">\n",
       "  <thead>\n",
       "    <tr style=\"text-align: right;\">\n",
       "      <th></th>\n",
       "      <th>Hair</th>\n",
       "      <th>Smile</th>\n",
       "      <th>Style</th>\n",
       "    </tr>\n",
       "  </thead>\n",
       "  <tbody>\n",
       "    <tr>\n",
       "      <th>Sam</th>\n",
       "      <td>0.300477</td>\n",
       "      <td>0.614780</td>\n",
       "      <td>1.091987</td>\n",
       "    </tr>\n",
       "    <tr>\n",
       "      <th>Janine</th>\n",
       "      <td>1.635806</td>\n",
       "      <td>0.015615</td>\n",
       "      <td>1.670969</td>\n",
       "    </tr>\n",
       "    <tr>\n",
       "      <th>Maxine</th>\n",
       "      <td>0.849102</td>\n",
       "      <td>0.825574</td>\n",
       "      <td>1.003929</td>\n",
       "    </tr>\n",
       "    <tr>\n",
       "      <th>Five</th>\n",
       "      <td>0.315965</td>\n",
       "      <td>1.049139</td>\n",
       "      <td>1.536692</td>\n",
       "    </tr>\n",
       "  </tbody>\n",
       "</table>\n",
       "</div>"
      ],
      "text/plain": [
       "            Hair     Smile     Style\n",
       "Sam     0.300477  0.614780  1.091987\n",
       "Janine  1.635806  0.015615  1.670969\n",
       "Maxine  0.849102  0.825574  1.003929\n",
       "Five    0.315965  1.049139  1.536692"
      ]
     },
     "execution_count": 356,
     "metadata": {},
     "output_type": "execute_result"
    }
   ],
   "source": [
    "np.abs(randorate)"
   ]
  },
  {
   "cell_type": "markdown",
   "id": "5352631a-d350-474c-920f-16870946d432",
   "metadata": {},
   "source": [
    "### .apply()\n",
    "Allows you to apply a function to the DF on a row/col basis."
   ]
  },
  {
   "cell_type": "code",
   "execution_count": 357,
   "id": "5d86aa99-d148-4bc3-a8dd-4b492b96dc14",
   "metadata": {},
   "outputs": [
    {
     "data": {
      "text/plain": [
       "Hair     2.484908\n",
       "Smile    1.874713\n",
       "Style    3.207661\n",
       "dtype: float64"
      ]
     },
     "execution_count": 357,
     "metadata": {},
     "output_type": "execute_result"
    }
   ],
   "source": [
    "def f1(x):\n",
    "    return x.max()-x.min()\n",
    "\n",
    "randorate.apply(f1)"
   ]
  },
  {
   "cell_type": "code",
   "execution_count": 358,
   "id": "45db9695-2731-4b3e-a80d-0cd9e0d5aa01",
   "metadata": {},
   "outputs": [
    {
     "data": {
      "text/plain": [
       "Sam       1.392464\n",
       "Janine    1.655354\n",
       "Maxine    1.853031\n",
       "Five      2.585831\n",
       "dtype: float64"
      ]
     },
     "execution_count": 358,
     "metadata": {},
     "output_type": "execute_result"
    }
   ],
   "source": [
    "randorate.apply(f1,axis=\"columns\")\n",
    "# Run the fuction across the rows instead of the cols"
   ]
  },
  {
   "cell_type": "code",
   "execution_count": 359,
   "id": "18d1abfb-1439-4e3c-8f48-df7d5cdcab2c",
   "metadata": {},
   "outputs": [
    {
     "data": {
      "text/html": [
       "<div>\n",
       "<style scoped>\n",
       "    .dataframe tbody tr th:only-of-type {\n",
       "        vertical-align: middle;\n",
       "    }\n",
       "\n",
       "    .dataframe tbody tr th {\n",
       "        vertical-align: top;\n",
       "    }\n",
       "\n",
       "    .dataframe thead th {\n",
       "        text-align: right;\n",
       "    }\n",
       "</style>\n",
       "<table border=\"1\" class=\"dataframe\">\n",
       "  <thead>\n",
       "    <tr style=\"text-align: right;\">\n",
       "      <th></th>\n",
       "      <th>Hair</th>\n",
       "      <th>Smile</th>\n",
       "      <th>Style</th>\n",
       "    </tr>\n",
       "  </thead>\n",
       "  <tbody>\n",
       "    <tr>\n",
       "      <th>Min</th>\n",
       "      <td>-1.635806</td>\n",
       "      <td>-1.049139</td>\n",
       "      <td>-1.670969</td>\n",
       "    </tr>\n",
       "    <tr>\n",
       "      <th>Max</th>\n",
       "      <td>0.849102</td>\n",
       "      <td>0.825574</td>\n",
       "      <td>1.536692</td>\n",
       "    </tr>\n",
       "  </tbody>\n",
       "</table>\n",
       "</div>"
      ],
      "text/plain": [
       "         Hair     Smile     Style\n",
       "Min -1.635806 -1.049139 -1.670969\n",
       "Max  0.849102  0.825574  1.536692"
      ]
     },
     "execution_count": 359,
     "metadata": {},
     "output_type": "execute_result"
    }
   ],
   "source": [
    "def f2(x):\n",
    "    return pd.Series([x.min(),x.max()], index=[\"Min\",\"Max\"])\n",
    "\n",
    "randorate.apply(f2)\n",
    "# Run a function that returns a series, runs across the cols."
   ]
  },
  {
   "cell_type": "markdown",
   "id": "2a9ab3e3-6640-40c3-b4b5-d6157a6d35d1",
   "metadata": {},
   "source": [
    "### .applymap()\n",
    "This applies a function to each element in a DataFrame"
   ]
  },
  {
   "cell_type": "markdown",
   "id": "e81693d4-a8a0-4441-80df-5343456c88fb",
   "metadata": {},
   "source": [
    "### .map()\n",
    "applies a function on each element of a Seires"
   ]
  },
  {
   "cell_type": "markdown",
   "id": "d7a868de-655a-4faf-8d25-d102f215d8cf",
   "metadata": {},
   "source": [
    "## 5.2 Sorting and Ranking"
   ]
  },
  {
   "cell_type": "markdown",
   "id": "7677d100-9626-4c0f-b892-482e475970fe",
   "metadata": {},
   "source": [
    "### .sort_index()\n",
    "Rearranges DF in 123 or abc order via index."
   ]
  },
  {
   "cell_type": "code",
   "execution_count": 369,
   "id": "c32ca038-4c85-45c5-844c-b2eb40f801f6",
   "metadata": {},
   "outputs": [
    {
     "data": {
      "text/html": [
       "<div>\n",
       "<style scoped>\n",
       "    .dataframe tbody tr th:only-of-type {\n",
       "        vertical-align: middle;\n",
       "    }\n",
       "\n",
       "    .dataframe tbody tr th {\n",
       "        vertical-align: top;\n",
       "    }\n",
       "\n",
       "    .dataframe thead th {\n",
       "        text-align: right;\n",
       "    }\n",
       "</style>\n",
       "<table border=\"1\" class=\"dataframe\">\n",
       "  <thead>\n",
       "    <tr style=\"text-align: right;\">\n",
       "      <th></th>\n",
       "      <th>Magic</th>\n",
       "      <th>Mane Color</th>\n",
       "      <th>Age</th>\n",
       "      <th>Biome</th>\n",
       "      <th>Scent</th>\n",
       "      <th>scent</th>\n",
       "    </tr>\n",
       "  </thead>\n",
       "  <tbody>\n",
       "    <tr>\n",
       "      <th>Moonbeam</th>\n",
       "      <td>Icey Beam</td>\n",
       "      <td>White</td>\n",
       "      <td>3094</td>\n",
       "      <td>Artic</td>\n",
       "      <td>NaN</td>\n",
       "      <td>NaN</td>\n",
       "    </tr>\n",
       "    <tr>\n",
       "      <th>Rosey Pie</th>\n",
       "      <td>Petal Flurry</td>\n",
       "      <td>Red</td>\n",
       "      <td>200</td>\n",
       "      <td>Gardens</td>\n",
       "      <td>NaN</td>\n",
       "      <td>NaN</td>\n",
       "    </tr>\n",
       "    <tr>\n",
       "      <th>Sparkles</th>\n",
       "      <td>Glitter Bomb</td>\n",
       "      <td>Pink</td>\n",
       "      <td>210</td>\n",
       "      <td>Forest</td>\n",
       "      <td>NaN</td>\n",
       "      <td>NaN</td>\n",
       "    </tr>\n",
       "    <tr>\n",
       "      <th>Sprinkles</th>\n",
       "      <td>Sugar Crash</td>\n",
       "      <td>Green</td>\n",
       "      <td>35</td>\n",
       "      <td>Clouds</td>\n",
       "      <td>NaN</td>\n",
       "      <td>NaN</td>\n",
       "    </tr>\n",
       "  </tbody>\n",
       "</table>\n",
       "</div>"
      ],
      "text/plain": [
       "                  Magic Mane Color   Age    Biome Scent scent\n",
       "Moonbeam      Icey Beam      White  3094    Artic   NaN   NaN\n",
       "Rosey Pie  Petal Flurry        Red   200  Gardens   NaN   NaN\n",
       "Sparkles   Glitter Bomb       Pink   210   Forest   NaN   NaN\n",
       "Sprinkles   Sugar Crash      Green    35   Clouds   NaN   NaN"
      ]
     },
     "execution_count": 369,
     "metadata": {},
     "output_type": "execute_result"
    }
   ],
   "source": [
    "frame.sort_index()"
   ]
  },
  {
   "cell_type": "code",
   "execution_count": 370,
   "id": "c8cc9db3-062e-4a2a-8cca-a23b971f4238",
   "metadata": {},
   "outputs": [
    {
     "data": {
      "text/html": [
       "<div>\n",
       "<style scoped>\n",
       "    .dataframe tbody tr th:only-of-type {\n",
       "        vertical-align: middle;\n",
       "    }\n",
       "\n",
       "    .dataframe tbody tr th {\n",
       "        vertical-align: top;\n",
       "    }\n",
       "\n",
       "    .dataframe thead th {\n",
       "        text-align: right;\n",
       "    }\n",
       "</style>\n",
       "<table border=\"1\" class=\"dataframe\">\n",
       "  <thead>\n",
       "    <tr style=\"text-align: right;\">\n",
       "      <th></th>\n",
       "      <th>Age</th>\n",
       "      <th>Biome</th>\n",
       "      <th>Magic</th>\n",
       "      <th>Mane Color</th>\n",
       "      <th>Scent</th>\n",
       "      <th>scent</th>\n",
       "    </tr>\n",
       "  </thead>\n",
       "  <tbody>\n",
       "    <tr>\n",
       "      <th>Sparkles</th>\n",
       "      <td>210</td>\n",
       "      <td>Forest</td>\n",
       "      <td>Glitter Bomb</td>\n",
       "      <td>Pink</td>\n",
       "      <td>NaN</td>\n",
       "      <td>NaN</td>\n",
       "    </tr>\n",
       "    <tr>\n",
       "      <th>Moonbeam</th>\n",
       "      <td>3094</td>\n",
       "      <td>Artic</td>\n",
       "      <td>Icey Beam</td>\n",
       "      <td>White</td>\n",
       "      <td>NaN</td>\n",
       "      <td>NaN</td>\n",
       "    </tr>\n",
       "    <tr>\n",
       "      <th>Rosey Pie</th>\n",
       "      <td>200</td>\n",
       "      <td>Gardens</td>\n",
       "      <td>Petal Flurry</td>\n",
       "      <td>Red</td>\n",
       "      <td>NaN</td>\n",
       "      <td>NaN</td>\n",
       "    </tr>\n",
       "    <tr>\n",
       "      <th>Sprinkles</th>\n",
       "      <td>35</td>\n",
       "      <td>Clouds</td>\n",
       "      <td>Sugar Crash</td>\n",
       "      <td>Green</td>\n",
       "      <td>NaN</td>\n",
       "      <td>NaN</td>\n",
       "    </tr>\n",
       "  </tbody>\n",
       "</table>\n",
       "</div>"
      ],
      "text/plain": [
       "            Age    Biome         Magic Mane Color Scent scent\n",
       "Sparkles    210   Forest  Glitter Bomb       Pink   NaN   NaN\n",
       "Moonbeam   3094    Artic     Icey Beam      White   NaN   NaN\n",
       "Rosey Pie   200  Gardens  Petal Flurry        Red   NaN   NaN\n",
       "Sprinkles    35   Clouds   Sugar Crash      Green   NaN   NaN"
      ]
     },
     "execution_count": 370,
     "metadata": {},
     "output_type": "execute_result"
    }
   ],
   "source": [
    "frame.sort_index(axis=\"columns\")"
   ]
  },
  {
   "cell_type": "markdown",
   "id": "68a7957f-01cc-4ac0-876d-3702fa439ea9",
   "metadata": {},
   "source": [
    "### .sort_values()\n",
    "Sorts via values"
   ]
  },
  {
   "cell_type": "code",
   "execution_count": 374,
   "id": "74f22715-2dfe-44a1-bc04-f180b42ad523",
   "metadata": {},
   "outputs": [
    {
     "data": {
      "text/plain": [
       "0    2.0\n",
       "1    4.0\n",
       "2    1.0\n",
       "3    6.0\n",
       "4    8.0\n",
       "5    NaN\n",
       "dtype: float64"
      ]
     },
     "execution_count": 374,
     "metadata": {},
     "output_type": "execute_result"
    }
   ],
   "source": [
    "badex=pd.Series([2,4,1,6,8,np.nan])\n",
    "badex"
   ]
  },
  {
   "cell_type": "code",
   "execution_count": 375,
   "id": "d1970a3d-e0a5-424d-b2cf-dd91bd53ff2c",
   "metadata": {},
   "outputs": [
    {
     "data": {
      "text/plain": [
       "2    1.0\n",
       "0    2.0\n",
       "1    4.0\n",
       "3    6.0\n",
       "4    8.0\n",
       "5    NaN\n",
       "dtype: float64"
      ]
     },
     "execution_count": 375,
     "metadata": {},
     "output_type": "execute_result"
    }
   ],
   "source": [
    "badex.sort_values()"
   ]
  },
  {
   "cell_type": "code",
   "execution_count": 377,
   "id": "9b30dcec-17b7-411c-9c8c-3ed23dec9e10",
   "metadata": {},
   "outputs": [
    {
     "data": {
      "text/html": [
       "<div>\n",
       "<style scoped>\n",
       "    .dataframe tbody tr th:only-of-type {\n",
       "        vertical-align: middle;\n",
       "    }\n",
       "\n",
       "    .dataframe tbody tr th {\n",
       "        vertical-align: top;\n",
       "    }\n",
       "\n",
       "    .dataframe thead th {\n",
       "        text-align: right;\n",
       "    }\n",
       "</style>\n",
       "<table border=\"1\" class=\"dataframe\">\n",
       "  <thead>\n",
       "    <tr style=\"text-align: right;\">\n",
       "      <th></th>\n",
       "      <th>Hair</th>\n",
       "      <th>Smile</th>\n",
       "      <th>Style</th>\n",
       "    </tr>\n",
       "  </thead>\n",
       "  <tbody>\n",
       "    <tr>\n",
       "      <th>Five</th>\n",
       "      <td>0.315965</td>\n",
       "      <td>-1.049139</td>\n",
       "      <td>1.536692</td>\n",
       "    </tr>\n",
       "    <tr>\n",
       "      <th>Janine</th>\n",
       "      <td>-1.635806</td>\n",
       "      <td>-0.015615</td>\n",
       "      <td>-1.670969</td>\n",
       "    </tr>\n",
       "    <tr>\n",
       "      <th>Sam</th>\n",
       "      <td>-0.300477</td>\n",
       "      <td>0.614780</td>\n",
       "      <td>1.091987</td>\n",
       "    </tr>\n",
       "    <tr>\n",
       "      <th>Maxine</th>\n",
       "      <td>0.849102</td>\n",
       "      <td>0.825574</td>\n",
       "      <td>-1.003929</td>\n",
       "    </tr>\n",
       "  </tbody>\n",
       "</table>\n",
       "</div>"
      ],
      "text/plain": [
       "            Hair     Smile     Style\n",
       "Five    0.315965 -1.049139  1.536692\n",
       "Janine -1.635806 -0.015615 -1.670969\n",
       "Sam    -0.300477  0.614780  1.091987\n",
       "Maxine  0.849102  0.825574 -1.003929"
      ]
     },
     "execution_count": 377,
     "metadata": {},
     "output_type": "execute_result"
    }
   ],
   "source": [
    "randorate.sort_values(\"Smile\")\n",
    "# Passing a col name sorts the whole thing by the col's values."
   ]
  },
  {
   "cell_type": "code",
   "execution_count": 378,
   "id": "9d06f681-6543-453d-b680-27f492b815fa",
   "metadata": {},
   "outputs": [
    {
     "data": {
      "text/html": [
       "<div>\n",
       "<style scoped>\n",
       "    .dataframe tbody tr th:only-of-type {\n",
       "        vertical-align: middle;\n",
       "    }\n",
       "\n",
       "    .dataframe tbody tr th {\n",
       "        vertical-align: top;\n",
       "    }\n",
       "\n",
       "    .dataframe thead th {\n",
       "        text-align: right;\n",
       "    }\n",
       "</style>\n",
       "<table border=\"1\" class=\"dataframe\">\n",
       "  <thead>\n",
       "    <tr style=\"text-align: right;\">\n",
       "      <th></th>\n",
       "      <th>Hair</th>\n",
       "      <th>Smile</th>\n",
       "      <th>Style</th>\n",
       "    </tr>\n",
       "  </thead>\n",
       "  <tbody>\n",
       "    <tr>\n",
       "      <th>Five</th>\n",
       "      <td>0.315965</td>\n",
       "      <td>-1.049139</td>\n",
       "      <td>1.536692</td>\n",
       "    </tr>\n",
       "    <tr>\n",
       "      <th>Janine</th>\n",
       "      <td>-1.635806</td>\n",
       "      <td>-0.015615</td>\n",
       "      <td>-1.670969</td>\n",
       "    </tr>\n",
       "    <tr>\n",
       "      <th>Sam</th>\n",
       "      <td>-0.300477</td>\n",
       "      <td>0.614780</td>\n",
       "      <td>1.091987</td>\n",
       "    </tr>\n",
       "    <tr>\n",
       "      <th>Maxine</th>\n",
       "      <td>0.849102</td>\n",
       "      <td>0.825574</td>\n",
       "      <td>-1.003929</td>\n",
       "    </tr>\n",
       "  </tbody>\n",
       "</table>\n",
       "</div>"
      ],
      "text/plain": [
       "            Hair     Smile     Style\n",
       "Five    0.315965 -1.049139  1.536692\n",
       "Janine -1.635806 -0.015615 -1.670969\n",
       "Sam    -0.300477  0.614780  1.091987\n",
       "Maxine  0.849102  0.825574 -1.003929"
      ]
     },
     "execution_count": 378,
     "metadata": {},
     "output_type": "execute_result"
    }
   ],
   "source": [
    "randorate.sort_values([\"Smile\",\"Hair\"])"
   ]
  },
  {
   "cell_type": "markdown",
   "id": "59c1502d-c4cb-471a-92ee-07600ed39cd6",
   "metadata": {},
   "source": [
    "### .rank()\n",
    "You might use the rank() function in pandas for several reasons:\n",
    "\n",
    "Identifying the position of values:\n",
    "Rank helps you determine the relative position of values within a column or row, allowing you to identify the top performers, bottom performers, or any specific rank.\n",
    "\n",
    "Sorting data based on rank:\n",
    "You can sort your DataFrame based on the ranks instead of the actual values, which can be useful in scenarios where the relative position is more important than the exact value.\n",
    "\n",
    "Handling ties:\n",
    "The rank() function provides different methods for handling ties, such as assigning the average rank, the minimum rank, or the maximum rank to tied values.\n",
    "\n",
    "Creating new features:\n",
    "Ranking can be used to create new features for machine learning models. For example, you might rank customers based on their spending and use that rank as a feature in a prediction model.\n",
    "\n",
    "Filtering data:\n",
    "You can use rank to filter data, such as selecting the top 10% of performers or the bottom 20% of performers."
   ]
  },
  {
   "cell_type": "code",
   "execution_count": 379,
   "id": "2280af81-2ac1-4703-b5e9-d38fa3505228",
   "metadata": {},
   "outputs": [
    {
     "data": {
      "text/plain": [
       "0    2.0\n",
       "1    3.0\n",
       "2    1.0\n",
       "3    4.0\n",
       "4    5.0\n",
       "5    NaN\n",
       "dtype: float64"
      ]
     },
     "execution_count": 379,
     "metadata": {},
     "output_type": "execute_result"
    }
   ],
   "source": [
    "badex.rank()"
   ]
  },
  {
   "cell_type": "markdown",
   "id": "c5b09c04-f344-49ef-b86a-86bcc3fc4d60",
   "metadata": {},
   "source": [
    "## Axis Indexes with Dupe Lables"
   ]
  },
  {
   "cell_type": "markdown",
   "id": "146096f6-d5cb-4684-a82e-b45a8ae54f13",
   "metadata": {},
   "source": [
    "### is_unique\n",
    "Lets you know if the lables are unique as a boolean."
   ]
  }
 ],
 "metadata": {
  "kernelspec": {
   "display_name": "Python 3 (ipykernel)",
   "language": "python",
   "name": "python3"
  },
  "language_info": {
   "codemirror_mode": {
    "name": "ipython",
    "version": 3
   },
   "file_extension": ".py",
   "mimetype": "text/x-python",
   "name": "python",
   "nbconvert_exporter": "python",
   "pygments_lexer": "ipython3",
   "version": "3.12.5"
  }
 },
 "nbformat": 4,
 "nbformat_minor": 5
}
