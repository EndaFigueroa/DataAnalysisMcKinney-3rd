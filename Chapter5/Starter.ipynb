{
 "cells": [
  {
   "cell_type": "code",
   "execution_count": 28,
   "id": "0c904fb8-cb73-459f-9a1f-314b5503f4de",
   "metadata": {},
   "outputs": [],
   "source": [
    "import pandas as pd\n",
    "import numpy as np\n",
    "from pandas import Series, DataFrame"
   ]
  },
  {
   "cell_type": "markdown",
   "id": "cc88105b-5aa2-481c-9b6b-671c7adb5aa9",
   "metadata": {},
   "source": [
    "<b><h1>Series   5.1</h1></b>\n",
    "A series is a dict with one key and a number of values. When you use pd to display a series, it will list the values by index. "
   ]
  },
  {
   "cell_type": "code",
   "execution_count": 29,
   "id": "f9279337-ed53-4043-a14d-9c3168b7d85b",
   "metadata": {},
   "outputs": [
    {
     "data": {
      "text/plain": [
       "0     0\n",
       "1     2\n",
       "2     5\n",
       "3     9\n",
       "4    10\n",
       "dtype: int64"
      ]
     },
     "execution_count": 29,
     "metadata": {},
     "output_type": "execute_result"
    }
   ],
   "source": [
    "obj = pd.Series([0,2,5,9,10])\n",
    "obj"
   ]
  },
  {
   "cell_type": "markdown",
   "id": "3fcf4525-8e54-49c1-add5-892276aca2dc",
   "metadata": {},
   "source": [
    "You can name the index in order to label your rows. Make sure each part is in a list [ ]."
   ]
  },
  {
   "cell_type": "code",
   "execution_count": 30,
   "id": "a509098f-79b6-4ec5-b211-72c5ae518cd0",
   "metadata": {},
   "outputs": [
    {
     "data": {
      "text/plain": [
       "cats       4\n",
       "birds      3\n",
       "dogs       2\n",
       "spiders    9\n",
       "dtype: int64"
      ]
     },
     "execution_count": 30,
     "metadata": {},
     "output_type": "execute_result"
    }
   ],
   "source": [
    "obj2 = pd.Series([4,3,2,9], index=[\"cats\",\"birds\",\"dogs\",\"spiders\"])\n",
    "obj2"
   ]
  },
  {
   "cell_type": "markdown",
   "id": "0c9653eb-ade5-42fc-8b8f-9d43e89c40a8",
   "metadata": {},
   "source": [
    "You can then call cells via their index lables. "
   ]
  },
  {
   "cell_type": "code",
   "execution_count": 31,
   "id": "f4e2e208-e428-43da-a56b-6a9b6ddfe07f",
   "metadata": {},
   "outputs": [
    {
     "name": "stdout",
     "output_type": "stream",
     "text": [
      "There are 4 cats.\n",
      "We have 2 dogs, and 9 spiders.\n"
     ]
    }
   ],
   "source": [
    "print(f\"There are {obj2[\"cats\"]} cats.\")\n",
    "print(f\"We have {obj2[\"dogs\"]} dogs, and {obj2[\"spiders\"]} spiders.\")"
   ]
  },
  {
   "cell_type": "markdown",
   "id": "8853c9d7-4d4f-4842-be50-bbffd6e6926f",
   "metadata": {},
   "source": [
    "You can use math and conditionals as well."
   ]
  },
  {
   "cell_type": "code",
   "execution_count": 32,
   "id": "423be777-21a8-4eda-9c91-e7dab2e5bb71",
   "metadata": {},
   "outputs": [
    {
     "data": {
      "text/plain": [
       "cats       4\n",
       "spiders    9\n",
       "dtype: int64"
      ]
     },
     "execution_count": 32,
     "metadata": {},
     "output_type": "execute_result"
    }
   ],
   "source": [
    "obj2[obj2>3]"
   ]
  },
  {
   "cell_type": "code",
   "execution_count": 33,
   "id": "b7f7d23e-1603-4cd5-837b-6e951ee4b7f0",
   "metadata": {},
   "outputs": [
    {
     "data": {
      "text/plain": [
       "False"
      ]
     },
     "execution_count": 33,
     "metadata": {},
     "output_type": "execute_result"
    }
   ],
   "source": [
    "\"fish\" in obj2"
   ]
  },
  {
   "cell_type": "code",
   "execution_count": 34,
   "id": "95dca3b3-08ce-499c-93fd-d76f35eb8658",
   "metadata": {},
   "outputs": [
    {
     "data": {
      "text/plain": [
       "np.False_"
      ]
     },
     "execution_count": 34,
     "metadata": {},
     "output_type": "execute_result"
    }
   ],
   "source": [
    "obj2[\"cats\"]==9"
   ]
  },
  {
   "cell_type": "markdown",
   "id": "d5a64c79-c7f2-49fe-a032-4ab014d4ddcd",
   "metadata": {},
   "source": [
    "You can pass in dicts."
   ]
  },
  {
   "cell_type": "code",
   "execution_count": 35,
   "id": "444f75d4-4bd6-4f51-b5c8-291d04ae1fec",
   "metadata": {},
   "outputs": [
    {
     "data": {
      "text/plain": [
       "red       2\n",
       "blue      5\n",
       "orange    1\n",
       "dtype: int64"
      ]
     },
     "execution_count": 35,
     "metadata": {},
     "output_type": "execute_result"
    }
   ],
   "source": [
    "yarns={\"red\":2,\"blue\":5,\"orange\":1}\n",
    "obj3 = pd.Series(yarns)\n",
    "obj3"
   ]
  },
  {
   "cell_type": "markdown",
   "id": "fee878c5-f3e5-400d-8263-a1e7f3c4604c",
   "metadata": {},
   "source": [
    "Change it back with to_"
   ]
  },
  {
   "cell_type": "code",
   "execution_count": 36,
   "id": "52faaaa4-b725-4a34-a881-3bdcfc21ccdd",
   "metadata": {},
   "outputs": [
    {
     "data": {
      "text/plain": [
       "{'red': 2, 'blue': 5, 'orange': 1}"
      ]
     },
     "execution_count": 36,
     "metadata": {},
     "output_type": "execute_result"
    }
   ],
   "source": [
    "obj3.to_dict()"
   ]
  },
  {
   "cell_type": "markdown",
   "id": "e87df795-373d-43f8-b7f5-69cb979f0f83",
   "metadata": {},
   "source": [
    "You can add tables together."
   ]
  },
  {
   "cell_type": "code",
   "execution_count": 37,
   "id": "1b36be45-adc0-420d-972e-4bc4125162be",
   "metadata": {},
   "outputs": [
    {
     "data": {
      "text/plain": [
       "birds     NaN\n",
       "blue      NaN\n",
       "cats      NaN\n",
       "dogs      NaN\n",
       "orange    NaN\n",
       "red       NaN\n",
       "spiders   NaN\n",
       "dtype: float64"
      ]
     },
     "execution_count": 37,
     "metadata": {},
     "output_type": "execute_result"
    }
   ],
   "source": [
    "obj2+obj3"
   ]
  },
  {
   "cell_type": "markdown",
   "id": "eac8f84f-9972-42b8-bb7c-ef516ab7d7aa",
   "metadata": {},
   "source": [
    "You can give a label to your index."
   ]
  },
  {
   "cell_type": "code",
   "execution_count": 38,
   "id": "7e7e5953-ab79-49c5-93a3-1d4ba6e6feb1",
   "metadata": {},
   "outputs": [
    {
     "data": {
      "text/plain": [
       "Colors\n",
       "red       2\n",
       "blue      5\n",
       "orange    1\n",
       "Name: Yarn Inventory, dtype: int64"
      ]
     },
     "execution_count": 38,
     "metadata": {},
     "output_type": "execute_result"
    }
   ],
   "source": [
    "obj3.index.name=\"Colors\"\n",
    "obj3.name=\"Yarn Inventory\"\n",
    "obj3"
   ]
  },
  {
   "cell_type": "markdown",
   "id": "dcb17cc2-bc74-46b7-ad36-6235de182a4e",
   "metadata": {},
   "source": [
    "<b><h1>DataFrame    5.1</b></h1>\n",
    "DataFrames are two series placed together. They can be made from dicts of equal lengths, csvs, jsons, and sqls."
   ]
  },
  {
   "cell_type": "code",
   "execution_count": 41,
   "id": "01621af4-33d0-4866-a384-cd2fe1d36635",
   "metadata": {},
   "outputs": [
    {
     "data": {
      "text/html": [
       "<div>\n",
       "<style scoped>\n",
       "    .dataframe tbody tr th:only-of-type {\n",
       "        vertical-align: middle;\n",
       "    }\n",
       "\n",
       "    .dataframe tbody tr th {\n",
       "        vertical-align: top;\n",
       "    }\n",
       "\n",
       "    .dataframe thead th {\n",
       "        text-align: right;\n",
       "    }\n",
       "</style>\n",
       "<table border=\"1\" class=\"dataframe\">\n",
       "  <thead>\n",
       "    <tr style=\"text-align: right;\">\n",
       "      <th></th>\n",
       "      <th>Magic</th>\n",
       "      <th>Mane Color</th>\n",
       "      <th>Age</th>\n",
       "    </tr>\n",
       "  </thead>\n",
       "  <tbody>\n",
       "    <tr>\n",
       "      <th>0</th>\n",
       "      <td>Glitter Bomb</td>\n",
       "      <td>Pink</td>\n",
       "      <td>209</td>\n",
       "    </tr>\n",
       "    <tr>\n",
       "      <th>1</th>\n",
       "      <td>Icey Beam</td>\n",
       "      <td>White</td>\n",
       "      <td>3094</td>\n",
       "    </tr>\n",
       "    <tr>\n",
       "      <th>2</th>\n",
       "      <td>Petal Flurry</td>\n",
       "      <td>Red</td>\n",
       "      <td>200</td>\n",
       "    </tr>\n",
       "    <tr>\n",
       "      <th>3</th>\n",
       "      <td>Sugar Crash</td>\n",
       "      <td>Green</td>\n",
       "      <td>35</td>\n",
       "    </tr>\n",
       "  </tbody>\n",
       "</table>\n",
       "</div>"
      ],
      "text/plain": [
       "          Magic Mane Color   Age\n",
       "0  Glitter Bomb       Pink   209\n",
       "1     Icey Beam      White  3094\n",
       "2  Petal Flurry        Red   200\n",
       "3   Sugar Crash      Green    35"
      ]
     },
     "execution_count": 41,
     "metadata": {},
     "output_type": "execute_result"
    }
   ],
   "source": [
    "data = {\"Magic\":[\"Glitter Bomb\",\"Icey Beam\",\"Petal Flurry\",\"Sugar Crash\"],\"Mane Color\":[\"Pink\",\"White\",\"Red\",\"Green\"],\"Age\":[209,3094,200,35]}\n",
    "frame = pd.DataFrame(data)\n",
    "frame"
   ]
  },
  {
   "cell_type": "markdown",
   "id": "3f99d167-fcbb-446b-a246-530aa764089f",
   "metadata": {},
   "source": [
    ".head and .tail will give the first or last 5 lines of a df. You can add a number to the () to give a specific amount of lines. You can also specify the order of cols."
   ]
  },
  {
   "cell_type": "code",
   "execution_count": 44,
   "id": "4f8cb85f-3ae5-4ccf-a506-5680225bad91",
   "metadata": {},
   "outputs": [
    {
     "data": {
      "text/html": [
       "<div>\n",
       "<style scoped>\n",
       "    .dataframe tbody tr th:only-of-type {\n",
       "        vertical-align: middle;\n",
       "    }\n",
       "\n",
       "    .dataframe tbody tr th {\n",
       "        vertical-align: top;\n",
       "    }\n",
       "\n",
       "    .dataframe thead th {\n",
       "        text-align: right;\n",
       "    }\n",
       "</style>\n",
       "<table border=\"1\" class=\"dataframe\">\n",
       "  <thead>\n",
       "    <tr style=\"text-align: right;\">\n",
       "      <th></th>\n",
       "      <th>Age</th>\n",
       "      <th>Mane Color</th>\n",
       "      <th>Magic</th>\n",
       "    </tr>\n",
       "  </thead>\n",
       "  <tbody>\n",
       "    <tr>\n",
       "      <th>0</th>\n",
       "      <td>209</td>\n",
       "      <td>Pink</td>\n",
       "      <td>Glitter Bomb</td>\n",
       "    </tr>\n",
       "    <tr>\n",
       "      <th>1</th>\n",
       "      <td>3094</td>\n",
       "      <td>White</td>\n",
       "      <td>Icey Beam</td>\n",
       "    </tr>\n",
       "    <tr>\n",
       "      <th>2</th>\n",
       "      <td>200</td>\n",
       "      <td>Red</td>\n",
       "      <td>Petal Flurry</td>\n",
       "    </tr>\n",
       "    <tr>\n",
       "      <th>3</th>\n",
       "      <td>35</td>\n",
       "      <td>Green</td>\n",
       "      <td>Sugar Crash</td>\n",
       "    </tr>\n",
       "  </tbody>\n",
       "</table>\n",
       "</div>"
      ],
      "text/plain": [
       "    Age Mane Color         Magic\n",
       "0   209       Pink  Glitter Bomb\n",
       "1  3094      White     Icey Beam\n",
       "2   200        Red  Petal Flurry\n",
       "3    35      Green   Sugar Crash"
      ]
     },
     "execution_count": 44,
     "metadata": {},
     "output_type": "execute_result"
    }
   ],
   "source": [
    "pd.DataFrame(data, columns=[\"Age\",\"Mane Color\",\"Magic\"])"
   ]
  },
  {
   "cell_type": "raw",
   "id": "228a02c8-1333-429d-9be1-07b49fbcfb0c",
   "metadata": {},
   "source": [
    "You can call a col by [\"col name\"] and a row with loc and iloc for the row index. You can print ranges of rows by adding indexs to iloc. Caps matter!"
   ]
  },
  {
   "cell_type": "code",
   "execution_count": 47,
   "id": "a067a8e3-6c63-4792-a68f-429d157d2b8f",
   "metadata": {},
   "outputs": [
    {
     "data": {
      "text/plain": [
       "0     209\n",
       "1    3094\n",
       "2     200\n",
       "3      35\n",
       "Name: Age, dtype: int64"
      ]
     },
     "execution_count": 47,
     "metadata": {},
     "output_type": "execute_result"
    }
   ],
   "source": [
    "frame[\"Age\"]"
   ]
  },
  {
   "cell_type": "code",
   "execution_count": 48,
   "id": "538d4c17-7e78-47c9-a3ad-8a5c85f96281",
   "metadata": {},
   "outputs": [
    {
     "data": {
      "text/plain": [
       "Magic         Petal Flurry\n",
       "Mane Color             Red\n",
       "Age                    200\n",
       "Name: 2, dtype: object"
      ]
     },
     "execution_count": 48,
     "metadata": {},
     "output_type": "execute_result"
    }
   ],
   "source": [
    "frame.loc[2]"
   ]
  },
  {
   "cell_type": "code",
   "execution_count": 50,
   "id": "1904227c-f8e5-41b6-a027-9838eb8bf68c",
   "metadata": {},
   "outputs": [
    {
     "data": {
      "text/html": [
       "<div>\n",
       "<style scoped>\n",
       "    .dataframe tbody tr th:only-of-type {\n",
       "        vertical-align: middle;\n",
       "    }\n",
       "\n",
       "    .dataframe tbody tr th {\n",
       "        vertical-align: top;\n",
       "    }\n",
       "\n",
       "    .dataframe thead th {\n",
       "        text-align: right;\n",
       "    }\n",
       "</style>\n",
       "<table border=\"1\" class=\"dataframe\">\n",
       "  <thead>\n",
       "    <tr style=\"text-align: right;\">\n",
       "      <th></th>\n",
       "      <th>Magic</th>\n",
       "      <th>Mane Color</th>\n",
       "      <th>Age</th>\n",
       "    </tr>\n",
       "  </thead>\n",
       "  <tbody>\n",
       "    <tr>\n",
       "      <th>2</th>\n",
       "      <td>Petal Flurry</td>\n",
       "      <td>Red</td>\n",
       "      <td>200</td>\n",
       "    </tr>\n",
       "    <tr>\n",
       "      <th>3</th>\n",
       "      <td>Sugar Crash</td>\n",
       "      <td>Green</td>\n",
       "      <td>35</td>\n",
       "    </tr>\n",
       "  </tbody>\n",
       "</table>\n",
       "</div>"
      ],
      "text/plain": [
       "          Magic Mane Color  Age\n",
       "2  Petal Flurry        Red  200\n",
       "3   Sugar Crash      Green   35"
      ]
     },
     "execution_count": 50,
     "metadata": {},
     "output_type": "execute_result"
    }
   ],
   "source": [
    "frame.iloc[2:]"
   ]
  },
  {
   "cell_type": "markdown",
   "id": "8012442c-2037-46a6-99d2-f6ec3c4abdbb",
   "metadata": {},
   "source": [
    "Add columns as well. "
   ]
  },
  {
   "cell_type": "code",
   "execution_count": 53,
   "id": "c68b3e31-0d25-45cc-ac51-6cbf29ef1040",
   "metadata": {},
   "outputs": [
    {
     "data": {
      "text/html": [
       "<div>\n",
       "<style scoped>\n",
       "    .dataframe tbody tr th:only-of-type {\n",
       "        vertical-align: middle;\n",
       "    }\n",
       "\n",
       "    .dataframe tbody tr th {\n",
       "        vertical-align: top;\n",
       "    }\n",
       "\n",
       "    .dataframe thead th {\n",
       "        text-align: right;\n",
       "    }\n",
       "</style>\n",
       "<table border=\"1\" class=\"dataframe\">\n",
       "  <thead>\n",
       "    <tr style=\"text-align: right;\">\n",
       "      <th></th>\n",
       "      <th>Magic</th>\n",
       "      <th>Mane Color</th>\n",
       "      <th>Age</th>\n",
       "      <th>Biome</th>\n",
       "    </tr>\n",
       "  </thead>\n",
       "  <tbody>\n",
       "    <tr>\n",
       "      <th>0</th>\n",
       "      <td>Glitter Bomb</td>\n",
       "      <td>Pink</td>\n",
       "      <td>209</td>\n",
       "      <td>Forest</td>\n",
       "    </tr>\n",
       "    <tr>\n",
       "      <th>1</th>\n",
       "      <td>Icey Beam</td>\n",
       "      <td>White</td>\n",
       "      <td>3094</td>\n",
       "      <td>Artic</td>\n",
       "    </tr>\n",
       "    <tr>\n",
       "      <th>2</th>\n",
       "      <td>Petal Flurry</td>\n",
       "      <td>Red</td>\n",
       "      <td>200</td>\n",
       "      <td>Gardens</td>\n",
       "    </tr>\n",
       "    <tr>\n",
       "      <th>3</th>\n",
       "      <td>Sugar Crash</td>\n",
       "      <td>Green</td>\n",
       "      <td>35</td>\n",
       "      <td>Clouds</td>\n",
       "    </tr>\n",
       "  </tbody>\n",
       "</table>\n",
       "</div>"
      ],
      "text/plain": [
       "          Magic Mane Color   Age    Biome\n",
       "0  Glitter Bomb       Pink   209   Forest\n",
       "1     Icey Beam      White  3094    Artic\n",
       "2  Petal Flurry        Red   200  Gardens\n",
       "3   Sugar Crash      Green    35   Clouds"
      ]
     },
     "execution_count": 53,
     "metadata": {},
     "output_type": "execute_result"
    }
   ],
   "source": [
    "frame[\"Biome\"]=[\"Forest\",\"Artic\",\"Gardens\",\"Clouds\"]\n",
    "frame"
   ]
  },
  {
   "cell_type": "code",
   "execution_count": null,
   "id": "9db735d4-8820-4b57-9ce2-54e06eafe72b",
   "metadata": {},
   "outputs": [],
   "source": []
  }
 ],
 "metadata": {
  "kernelspec": {
   "display_name": "Python 3 (ipykernel)",
   "language": "python",
   "name": "python3"
  },
  "language_info": {
   "codemirror_mode": {
    "name": "ipython",
    "version": 3
   },
   "file_extension": ".py",
   "mimetype": "text/x-python",
   "name": "python",
   "nbconvert_exporter": "python",
   "pygments_lexer": "ipython3",
   "version": "3.12.5"
  }
 },
 "nbformat": 4,
 "nbformat_minor": 5
}
